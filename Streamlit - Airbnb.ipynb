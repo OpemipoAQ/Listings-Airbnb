{
 "cells": [
  {
   "cell_type": "code",
   "execution_count": 5,
   "id": "f1904282",
   "metadata": {},
   "outputs": [
    {
     "name": "stdout",
     "output_type": "stream",
     "text": [
      "Overwriting Airbnb.py\n"
     ]
    }
   ],
   "source": [
    "%%writefile Airbnb.py\n",
    "\n",
    "import streamlit as st\n",
    "import pandas as pd\n",
    "import numpy as np\n",
    "import pickle\n",
    "from PIL import Image\n",
    "\n",
    "st.write(\"\"\"\n",
    "# AIRBNB HOUSE PRICE PREDICTION APP\n",
    "\"\"\")\n",
    "image=Image.open('Airbnb.jpg')\n",
    "st.image(image, width=500)\n",
    "\n",
    "model=pickle.load(open('model(rf).pkl','rb'))\n",
    "\n",
    "scaler=pickle.load(open('scaler.pkl','rb'))\n",
    "\n",
    "\n",
    "st.sidebar.header('User Input Parameters')\n",
    "\n",
    "def user_input_features():\n",
    "    Room_type=st.sidebar.selectbox('Room Type',('Private room','Entire home/apt','Shared room'))\n",
    "    if Room_type=='Entire home/apt':\n",
    "        Entire=1\n",
    "        Private=0\n",
    "        Shared=0\n",
    "    if Room_type=='Private room':\n",
    "        Entire=0\n",
    "        Private=1\n",
    "        Shared=0\n",
    "    if Room_type=='Shared room':\n",
    "        Entire=0\n",
    "        Private=0\n",
    "        Shared=1\n",
    "        \n",
    "    Region_hood=st.sidebar.selectbox('Region',('North Region','Central Region','East Region','West Region','North_East Region'))\n",
    "    if Region_hood=='North Region':\n",
    "        Central=0\n",
    "        North=1\n",
    "        East=0\n",
    "        West=0\n",
    "        North_East=0\n",
    "    if Region_hood=='Central Region':\n",
    "        Central=1\n",
    "        North=0\n",
    "        East=0\n",
    "        West=0\n",
    "        North_East=0\n",
    "    if Region_hood=='East Region':\n",
    "        Central=0\n",
    "        North=0\n",
    "        East=1\n",
    "        West=0\n",
    "        North_East=0\n",
    "    if Region_hood=='West Region':\n",
    "        Central=0\n",
    "        North=0\n",
    "        East=0\n",
    "        West=1\n",
    "        North_East=0\n",
    "    if Region_hood=='North_East Region':\n",
    "        Central=0\n",
    "        North=0\n",
    "        East=0\n",
    "        West=0\n",
    "        North_East=1\n",
    "        \n",
    "    Host_id=st.number_input('What is your Host ID?')\n",
    "    host_list_count=st.number_input('Host listing count')\n",
    "    longitude=st.number_input(\"Building's longitudinal location\")\n",
    "    latitude=st.number_input(\"Building's latitudinal location\")    \n",
    "    minimum_nights=st.number_input('For how many nights will you be staying?')\n",
    "    Availability=st.number_input('how many nights is the building available')\n",
    "    last_review_month=st.number_input('What month was the last review?',max_value=12,min_value=1,step=1)\n",
    "    last_review_year=st.number_input('What year was the last review?',max_value=2022,min_value=2012,step=1)\n",
    "    reviews_per_month=st.number_input('How many reviews do you get monthly?')\n",
    "    number_of_reviews=st.number_input('How many reviews have you gotten?')\n",
    "        \n",
    "        \n",
    "    data={'latitude':latitude,\n",
    "         'longitude':longitude,\n",
    "         'minimum_nights':minimum_nights,\n",
    "         'calculated_host_listings_count':host_list_count,\n",
    "         'last_review_month':last_review_month,\n",
    "         'last_review_year':last_review_year,\n",
    "         'reviews_per_month':reviews_per_month,\n",
    "         'number_of_reviews':number_of_reviews,\n",
    "         'host_id':Host_id,\n",
    "         'availability_365':Availability,\n",
    "         'room_type_Private_room':Private,\n",
    "         'room_type_Shared_room':Shared,\n",
    "         'neighbourhood_group_West Region':West,\n",
    "         'neighbourhood_group_North-East Region':North_East,\n",
    "         'neighbourhood_group_East Region':East,\n",
    "         'neighbourhood_group_North Region':North}\n",
    "    \n",
    "    features=pd.DataFrame(data, index=[0])\n",
    "    return features\n",
    "\n",
    "input_df=user_input_features()\n",
    "input_df=scaler.transform(input_df)\n",
    "    \n",
    "if st.button('PREDICT'):\n",
    "    y_outcome=model.predict(input_df)\n",
    "    st.write(f' This room will cost you $',y_outcome[0])"
   ]
  },
  {
   "cell_type": "code",
   "execution_count": 6,
   "id": "5504765a",
   "metadata": {},
   "outputs": [
    {
     "name": "stdout",
     "output_type": "stream",
     "text": [
      "^C\n"
     ]
    }
   ],
   "source": [
    "!streamlit run Airbnb.py"
   ]
  },
  {
   "cell_type": "code",
   "execution_count": null,
   "id": "d8d7067f",
   "metadata": {},
   "outputs": [],
   "source": []
  }
 ],
 "metadata": {
  "kernelspec": {
   "display_name": "Python 3",
   "language": "python",
   "name": "python3"
  },
  "language_info": {
   "codemirror_mode": {
    "name": "ipython",
    "version": 3
   },
   "file_extension": ".py",
   "mimetype": "text/x-python",
   "name": "python",
   "nbconvert_exporter": "python",
   "pygments_lexer": "ipython3",
   "version": "3.8.8"
  }
 },
 "nbformat": 4,
 "nbformat_minor": 5
}
