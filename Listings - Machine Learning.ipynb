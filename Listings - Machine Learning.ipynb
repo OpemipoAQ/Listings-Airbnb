{
 "cells": [
  {
   "cell_type": "code",
   "execution_count": 2,
   "id": "c7da138f",
   "metadata": {},
   "outputs": [],
   "source": [
    "import pandas as pd\n",
    "import matplotlib.pyplot as plt\n",
    "import numpy as np\n",
    "import seaborn as sns\n",
    "from collections import OrderedDict\n",
    "%matplotlib inline\n",
    "sns.set()"
   ]
  },
  {
   "cell_type": "code",
   "execution_count": 3,
   "id": "0ea7470e",
   "metadata": {},
   "outputs": [],
   "source": [
    "from sklearn.metrics import r2_score\n",
    "from sklearn.metrics import mean_squared_error\n",
    "from sklearn.model_selection import train_test_split\n",
    "pd.set_option('display.float_format', lambda x: '{:.3f}'.format(x))"
   ]
  },
  {
   "cell_type": "code",
   "execution_count": 4,
   "id": "4f0891b0",
   "metadata": {},
   "outputs": [],
   "source": [
    "#!pip install xgboost"
   ]
  },
  {
   "cell_type": "code",
   "execution_count": 5,
   "id": "967ec06d",
   "metadata": {},
   "outputs": [],
   "source": [
    "from xgboost import XGBRegressor"
   ]
  },
  {
   "cell_type": "code",
   "execution_count": 6,
   "id": "bf704b45",
   "metadata": {},
   "outputs": [],
   "source": [
    "df=pd.read_csv(r'C:\\Users\\opemi\\Downloads\\listings.csv')"
   ]
  },
  {
   "cell_type": "code",
   "execution_count": 7,
   "id": "f29b5626",
   "metadata": {},
   "outputs": [
    {
     "data": {
      "text/html": [
       "<div>\n",
       "<style scoped>\n",
       "    .dataframe tbody tr th:only-of-type {\n",
       "        vertical-align: middle;\n",
       "    }\n",
       "\n",
       "    .dataframe tbody tr th {\n",
       "        vertical-align: top;\n",
       "    }\n",
       "\n",
       "    .dataframe thead th {\n",
       "        text-align: right;\n",
       "    }\n",
       "</style>\n",
       "<table border=\"1\" class=\"dataframe\">\n",
       "  <thead>\n",
       "    <tr style=\"text-align: right;\">\n",
       "      <th></th>\n",
       "      <th>id</th>\n",
       "      <th>name</th>\n",
       "      <th>host_id</th>\n",
       "      <th>host_name</th>\n",
       "      <th>neighbourhood_group</th>\n",
       "      <th>latitude</th>\n",
       "      <th>longitude</th>\n",
       "      <th>room_type</th>\n",
       "      <th>price</th>\n",
       "      <th>minimum_nights</th>\n",
       "      <th>number_of_reviews</th>\n",
       "      <th>last_review</th>\n",
       "      <th>reviews_per_month</th>\n",
       "      <th>calculated_host_listings_count</th>\n",
       "      <th>availability_365</th>\n",
       "    </tr>\n",
       "  </thead>\n",
       "  <tbody>\n",
       "    <tr>\n",
       "      <th>0</th>\n",
       "      <td>49091</td>\n",
       "      <td>COZICOMFORT LONG TERM STAY ROOM 2</td>\n",
       "      <td>266763</td>\n",
       "      <td>Francesca</td>\n",
       "      <td>North Region</td>\n",
       "      <td>1.443</td>\n",
       "      <td>103.796</td>\n",
       "      <td>Private room</td>\n",
       "      <td>83</td>\n",
       "      <td>180</td>\n",
       "      <td>1</td>\n",
       "      <td>10/21/2013</td>\n",
       "      <td>0.010</td>\n",
       "      <td>2</td>\n",
       "      <td>365</td>\n",
       "    </tr>\n",
       "    <tr>\n",
       "      <th>1</th>\n",
       "      <td>50646</td>\n",
       "      <td>Pleasant Room along Bukit Timah</td>\n",
       "      <td>227796</td>\n",
       "      <td>Sujatha</td>\n",
       "      <td>Central Region</td>\n",
       "      <td>1.332</td>\n",
       "      <td>103.785</td>\n",
       "      <td>Private room</td>\n",
       "      <td>81</td>\n",
       "      <td>90</td>\n",
       "      <td>18</td>\n",
       "      <td>12/26/2014</td>\n",
       "      <td>0.280</td>\n",
       "      <td>1</td>\n",
       "      <td>365</td>\n",
       "    </tr>\n",
       "    <tr>\n",
       "      <th>2</th>\n",
       "      <td>56334</td>\n",
       "      <td>COZICOMFORT</td>\n",
       "      <td>266763</td>\n",
       "      <td>Francesca</td>\n",
       "      <td>North Region</td>\n",
       "      <td>1.442</td>\n",
       "      <td>103.797</td>\n",
       "      <td>Private room</td>\n",
       "      <td>69</td>\n",
       "      <td>6</td>\n",
       "      <td>20</td>\n",
       "      <td>10/1/2015</td>\n",
       "      <td>0.200</td>\n",
       "      <td>2</td>\n",
       "      <td>365</td>\n",
       "    </tr>\n",
       "    <tr>\n",
       "      <th>3</th>\n",
       "      <td>71609</td>\n",
       "      <td>Ensuite Room (Room 1 &amp; 2) near EXPO</td>\n",
       "      <td>367042</td>\n",
       "      <td>Belinda</td>\n",
       "      <td>East Region</td>\n",
       "      <td>1.345</td>\n",
       "      <td>103.957</td>\n",
       "      <td>Private room</td>\n",
       "      <td>206</td>\n",
       "      <td>1</td>\n",
       "      <td>14</td>\n",
       "      <td>8/11/2019</td>\n",
       "      <td>0.150</td>\n",
       "      <td>9</td>\n",
       "      <td>353</td>\n",
       "    </tr>\n",
       "    <tr>\n",
       "      <th>4</th>\n",
       "      <td>71896</td>\n",
       "      <td>B&amp;B  Room 1 near Airport &amp; EXPO</td>\n",
       "      <td>367042</td>\n",
       "      <td>Belinda</td>\n",
       "      <td>East Region</td>\n",
       "      <td>1.346</td>\n",
       "      <td>103.960</td>\n",
       "      <td>Private room</td>\n",
       "      <td>94</td>\n",
       "      <td>1</td>\n",
       "      <td>22</td>\n",
       "      <td>7/28/2019</td>\n",
       "      <td>0.220</td>\n",
       "      <td>9</td>\n",
       "      <td>355</td>\n",
       "    </tr>\n",
       "  </tbody>\n",
       "</table>\n",
       "</div>"
      ],
      "text/plain": [
       "      id                                 name  host_id  host_name  \\\n",
       "0  49091    COZICOMFORT LONG TERM STAY ROOM 2   266763  Francesca   \n",
       "1  50646      Pleasant Room along Bukit Timah   227796    Sujatha   \n",
       "2  56334                          COZICOMFORT   266763  Francesca   \n",
       "3  71609  Ensuite Room (Room 1 & 2) near EXPO   367042    Belinda   \n",
       "4  71896      B&B  Room 1 near Airport & EXPO   367042    Belinda   \n",
       "\n",
       "  neighbourhood_group  latitude  longitude     room_type  price  \\\n",
       "0        North Region     1.443    103.796  Private room     83   \n",
       "1      Central Region     1.332    103.785  Private room     81   \n",
       "2        North Region     1.442    103.797  Private room     69   \n",
       "3         East Region     1.345    103.957  Private room    206   \n",
       "4         East Region     1.346    103.960  Private room     94   \n",
       "\n",
       "   minimum_nights  number_of_reviews last_review  reviews_per_month  \\\n",
       "0             180                  1  10/21/2013              0.010   \n",
       "1              90                 18  12/26/2014              0.280   \n",
       "2               6                 20   10/1/2015              0.200   \n",
       "3               1                 14   8/11/2019              0.150   \n",
       "4               1                 22   7/28/2019              0.220   \n",
       "\n",
       "   calculated_host_listings_count  availability_365  \n",
       "0                               2               365  \n",
       "1                               1               365  \n",
       "2                               2               365  \n",
       "3                               9               353  \n",
       "4                               9               355  "
      ]
     },
     "execution_count": 7,
     "metadata": {},
     "output_type": "execute_result"
    }
   ],
   "source": [
    "df.head()"
   ]
  },
  {
   "cell_type": "markdown",
   "id": "14243251",
   "metadata": {},
   "source": [
    "# Data Cleaning"
   ]
  },
  {
   "cell_type": "code",
   "execution_count": 8,
   "id": "163df494",
   "metadata": {},
   "outputs": [
    {
     "data": {
      "text/plain": [
       "(7907, 15)"
      ]
     },
     "execution_count": 8,
     "metadata": {},
     "output_type": "execute_result"
    }
   ],
   "source": [
    "df.shape"
   ]
  },
  {
   "cell_type": "code",
   "execution_count": 9,
   "id": "782c977d",
   "metadata": {},
   "outputs": [
    {
     "data": {
      "text/plain": [
       "id                                  int64\n",
       "name                               object\n",
       "host_id                             int64\n",
       "host_name                          object\n",
       "neighbourhood_group                object\n",
       "latitude                          float64\n",
       "longitude                         float64\n",
       "room_type                          object\n",
       "price                               int64\n",
       "minimum_nights                      int64\n",
       "number_of_reviews                   int64\n",
       "last_review                        object\n",
       "reviews_per_month                 float64\n",
       "calculated_host_listings_count      int64\n",
       "availability_365                    int64\n",
       "dtype: object"
      ]
     },
     "execution_count": 9,
     "metadata": {},
     "output_type": "execute_result"
    }
   ],
   "source": [
    "df.dtypes"
   ]
  },
  {
   "cell_type": "code",
   "execution_count": 10,
   "id": "5efb4e5d",
   "metadata": {},
   "outputs": [
    {
     "data": {
      "text/plain": [
       "id                                0.000\n",
       "name                              0.030\n",
       "host_id                           0.000\n",
       "host_name                         0.000\n",
       "neighbourhood_group               0.000\n",
       "latitude                          0.000\n",
       "longitude                         0.000\n",
       "room_type                         0.000\n",
       "price                             0.000\n",
       "minimum_nights                    0.000\n",
       "number_of_reviews                 0.000\n",
       "last_review                      34.880\n",
       "reviews_per_month                34.880\n",
       "calculated_host_listings_count    0.000\n",
       "availability_365                  0.000\n",
       "dtype: float64"
      ]
     },
     "execution_count": 10,
     "metadata": {},
     "output_type": "execute_result"
    }
   ],
   "source": [
    "round(100*(df.isnull().sum()/len(df.index)),2)"
   ]
  },
  {
   "cell_type": "code",
   "execution_count": 77,
   "id": "e6fbda3e",
   "metadata": {},
   "outputs": [
    {
     "data": {
      "text/plain": [
       "528"
      ]
     },
     "execution_count": 77,
     "metadata": {},
     "output_type": "execute_result"
    }
   ],
   "source": [
    "len(df['reviews_per_month'].unique())"
   ]
  },
  {
   "cell_type": "code",
   "execution_count": 12,
   "id": "abda653a",
   "metadata": {},
   "outputs": [
    {
     "data": {
      "text/plain": [
       "count   5149.000\n",
       "mean       1.044\n",
       "std        1.286\n",
       "min        0.010\n",
       "25%        0.180\n",
       "50%        0.550\n",
       "75%        1.370\n",
       "max       13.000\n",
       "Name: reviews_per_month, dtype: float64"
      ]
     },
     "execution_count": 12,
     "metadata": {},
     "output_type": "execute_result"
    }
   ],
   "source": [
    "df['reviews_per_month'].describe()"
   ]
  },
  {
   "cell_type": "code",
   "execution_count": 13,
   "id": "78048b3d",
   "metadata": {},
   "outputs": [],
   "source": [
    "#The fact that some dont have reviews might just mean there's no review so we can replace with zero.\n",
    "df['reviews_per_month'].fillna(0, inplace=True)"
   ]
  },
  {
   "cell_type": "code",
   "execution_count": 14,
   "id": "8e11e3dc",
   "metadata": {},
   "outputs": [
    {
     "data": {
      "text/plain": [
       "id                                   0\n",
       "name                                 2\n",
       "host_id                              0\n",
       "host_name                            0\n",
       "neighbourhood_group                  0\n",
       "latitude                             0\n",
       "longitude                            0\n",
       "room_type                            0\n",
       "price                                0\n",
       "minimum_nights                       0\n",
       "number_of_reviews                    0\n",
       "last_review                       2758\n",
       "reviews_per_month                    0\n",
       "calculated_host_listings_count       0\n",
       "availability_365                     0\n",
       "dtype: int64"
      ]
     },
     "execution_count": 14,
     "metadata": {},
     "output_type": "execute_result"
    }
   ],
   "source": [
    "df.isnull().sum()"
   ]
  },
  {
   "cell_type": "code",
   "execution_count": 15,
   "id": "09f179f5",
   "metadata": {},
   "outputs": [
    {
     "data": {
      "text/plain": [
       "id                                   0\n",
       "name                                 1\n",
       "host_id                              0\n",
       "host_name                            0\n",
       "neighbourhood_group                  0\n",
       "latitude                             0\n",
       "longitude                            0\n",
       "room_type                            0\n",
       "price                                0\n",
       "minimum_nights                       0\n",
       "number_of_reviews                    0\n",
       "last_review                       2758\n",
       "reviews_per_month                    0\n",
       "calculated_host_listings_count       0\n",
       "availability_365                     0\n",
       "dtype: int64"
      ]
     },
     "execution_count": 15,
     "metadata": {},
     "output_type": "execute_result"
    }
   ],
   "source": [
    "(df[df['reviews_per_month']==0]).isnull().sum()"
   ]
  },
  {
   "cell_type": "code",
   "execution_count": 16,
   "id": "dff0cd49",
   "metadata": {},
   "outputs": [
    {
     "data": {
      "text/plain": [
       "1002"
      ]
     },
     "execution_count": 16,
     "metadata": {},
     "output_type": "execute_result"
    }
   ],
   "source": [
    "len(df['last_review'].unique())"
   ]
  },
  {
   "cell_type": "code",
   "execution_count": 17,
   "id": "162f03a2",
   "metadata": {},
   "outputs": [
    {
     "data": {
      "text/plain": [
       "array(['10/21/2013', '12/26/2014', '10/1/2015', ..., '4/9/2019',\n",
       "       '6/17/2019', '3/22/2019'], dtype=object)"
      ]
     },
     "execution_count": 17,
     "metadata": {},
     "output_type": "execute_result"
    }
   ],
   "source": [
    "df['last_review'].unique()"
   ]
  },
  {
   "cell_type": "code",
   "execution_count": 18,
   "id": "15a04b76",
   "metadata": {},
   "outputs": [],
   "source": [
    "df['Year']=df['last_review'].copy()"
   ]
  },
  {
   "cell_type": "code",
   "execution_count": 19,
   "id": "1e8b1cbe",
   "metadata": {},
   "outputs": [
    {
     "data": {
      "text/plain": [
       "2758"
      ]
     },
     "execution_count": 19,
     "metadata": {},
     "output_type": "execute_result"
    }
   ],
   "source": [
    "df['Year'].isnull().sum()"
   ]
  },
  {
   "cell_type": "code",
   "execution_count": 20,
   "id": "2e3307c9",
   "metadata": {},
   "outputs": [],
   "source": [
    "df['Year'].fillna('0/0/0000', inplace=True)"
   ]
  },
  {
   "cell_type": "code",
   "execution_count": 21,
   "id": "004f1307",
   "metadata": {},
   "outputs": [
    {
     "data": {
      "text/plain": [
       "0       [10, 21, 2013]\n",
       "1       [12, 26, 2014]\n",
       "2        [10, 1, 2015]\n",
       "3        [8, 11, 2019]\n",
       "4        [7, 28, 2019]\n",
       "             ...      \n",
       "7902      [0, 0, 0000]\n",
       "7903      [0, 0, 0000]\n",
       "7904      [0, 0, 0000]\n",
       "7905      [0, 0, 0000]\n",
       "7906      [0, 0, 0000]\n",
       "Name: Year, Length: 7907, dtype: object"
      ]
     },
     "execution_count": 21,
     "metadata": {},
     "output_type": "execute_result"
    }
   ],
   "source": [
    "df['Year']=df['Year'].str.split('/')\n",
    "df['Year']"
   ]
  },
  {
   "cell_type": "code",
   "execution_count": 22,
   "id": "0269a5f1",
   "metadata": {},
   "outputs": [],
   "source": [
    "df['Year']=df['Year'].apply(lambda x:x[2])   #index 2- this calls out only the year as year is in index 2"
   ]
  },
  {
   "cell_type": "code",
   "execution_count": 23,
   "id": "2318fb60",
   "metadata": {},
   "outputs": [
    {
     "data": {
      "text/plain": [
       "array(['2013', '2014', '2015', '2019', '2018', '2016', '0000', '2017'],\n",
       "      dtype=object)"
      ]
     },
     "execution_count": 23,
     "metadata": {},
     "output_type": "execute_result"
    }
   ],
   "source": [
    "df['Year'].unique()"
   ]
  },
  {
   "cell_type": "code",
   "execution_count": 24,
   "id": "97e012a8",
   "metadata": {},
   "outputs": [],
   "source": [
    "df['last_review'].fillna('1/1/2012',inplace=True)"
   ]
  },
  {
   "cell_type": "code",
   "execution_count": 25,
   "id": "94cd2a3d",
   "metadata": {},
   "outputs": [
    {
     "data": {
      "text/plain": [
       "id                                0\n",
       "name                              2\n",
       "host_id                           0\n",
       "host_name                         0\n",
       "neighbourhood_group               0\n",
       "latitude                          0\n",
       "longitude                         0\n",
       "room_type                         0\n",
       "price                             0\n",
       "minimum_nights                    0\n",
       "number_of_reviews                 0\n",
       "last_review                       0\n",
       "reviews_per_month                 0\n",
       "calculated_host_listings_count    0\n",
       "availability_365                  0\n",
       "Year                              0\n",
       "dtype: int64"
      ]
     },
     "execution_count": 25,
     "metadata": {},
     "output_type": "execute_result"
    }
   ],
   "source": [
    "df.isnull().sum()"
   ]
  },
  {
   "cell_type": "code",
   "execution_count": 26,
   "id": "919581d8",
   "metadata": {},
   "outputs": [
    {
     "data": {
      "text/plain": [
       "2705"
      ]
     },
     "execution_count": 26,
     "metadata": {},
     "output_type": "execute_result"
    }
   ],
   "source": [
    "len(df['host_id'].unique())"
   ]
  },
  {
   "cell_type": "code",
   "execution_count": 27,
   "id": "645e21f9",
   "metadata": {},
   "outputs": [
    {
     "data": {
      "text/plain": [
       "7907"
      ]
     },
     "execution_count": 27,
     "metadata": {},
     "output_type": "execute_result"
    }
   ],
   "source": [
    "len(df['id'].unique())"
   ]
  },
  {
   "cell_type": "code",
   "execution_count": 28,
   "id": "861d0044",
   "metadata": {},
   "outputs": [
    {
     "data": {
      "text/plain": [
       "7456"
      ]
     },
     "execution_count": 28,
     "metadata": {},
     "output_type": "execute_result"
    }
   ],
   "source": [
    "len(df['name'].unique())"
   ]
  },
  {
   "cell_type": "code",
   "execution_count": 29,
   "id": "a65b3c31",
   "metadata": {},
   "outputs": [],
   "source": [
    "df.drop(['name','id','host_name'], axis=1,inplace=True)"
   ]
  },
  {
   "cell_type": "code",
   "execution_count": 30,
   "id": "46582668",
   "metadata": {},
   "outputs": [
    {
     "data": {
      "text/plain": [
       "host_id                           0\n",
       "neighbourhood_group               0\n",
       "latitude                          0\n",
       "longitude                         0\n",
       "room_type                         0\n",
       "price                             0\n",
       "minimum_nights                    0\n",
       "number_of_reviews                 0\n",
       "last_review                       0\n",
       "reviews_per_month                 0\n",
       "calculated_host_listings_count    0\n",
       "availability_365                  0\n",
       "Year                              0\n",
       "dtype: int64"
      ]
     },
     "execution_count": 30,
     "metadata": {},
     "output_type": "execute_result"
    }
   ],
   "source": [
    "df.isnull().sum()"
   ]
  },
  {
   "cell_type": "code",
   "execution_count": 31,
   "id": "74f7ce1e",
   "metadata": {},
   "outputs": [
    {
     "data": {
      "text/plain": [
       "host_id                             int64\n",
       "neighbourhood_group                object\n",
       "latitude                          float64\n",
       "longitude                         float64\n",
       "room_type                          object\n",
       "price                               int64\n",
       "minimum_nights                      int64\n",
       "number_of_reviews                   int64\n",
       "last_review                        object\n",
       "reviews_per_month                 float64\n",
       "calculated_host_listings_count      int64\n",
       "availability_365                    int64\n",
       "Year                               object\n",
       "dtype: object"
      ]
     },
     "execution_count": 31,
     "metadata": {},
     "output_type": "execute_result"
    }
   ],
   "source": [
    "df.dtypes"
   ]
  },
  {
   "cell_type": "code",
   "execution_count": 32,
   "id": "c5c6c914",
   "metadata": {},
   "outputs": [],
   "source": [
    "df['last_review']=pd.to_datetime(df['last_review'],infer_datetime_format=True)"
   ]
  },
  {
   "cell_type": "code",
   "execution_count": 33,
   "id": "78a94e22",
   "metadata": {},
   "outputs": [],
   "source": [
    "df['Year']=df['Year'].astype('int64')"
   ]
  },
  {
   "cell_type": "code",
   "execution_count": 34,
   "id": "c2c44cf5",
   "metadata": {},
   "outputs": [
    {
     "data": {
      "text/plain": [
       "0       2013\n",
       "1       2014\n",
       "2       2015\n",
       "3       2019\n",
       "4       2019\n",
       "        ... \n",
       "7902       0\n",
       "7903       0\n",
       "7904       0\n",
       "7905       0\n",
       "7906       0\n",
       "Name: Year, Length: 7907, dtype: int64"
      ]
     },
     "execution_count": 34,
     "metadata": {},
     "output_type": "execute_result"
    }
   ],
   "source": [
    "df['Year']"
   ]
  },
  {
   "cell_type": "markdown",
   "id": "b0698aea",
   "metadata": {},
   "source": [
    "# Encoding"
   ]
  },
  {
   "cell_type": "code",
   "execution_count": 35,
   "id": "907df039",
   "metadata": {},
   "outputs": [],
   "source": [
    "for c in df:\n",
    "    if df[c].dtype=='O':\n",
    "        df=pd.concat([df,pd.get_dummies(df[c], prefix=c, drop_first=True)],axis=1)\n",
    "        df=df.drop(c,axis=1)"
   ]
  },
  {
   "cell_type": "code",
   "execution_count": 36,
   "id": "5531d88f",
   "metadata": {},
   "outputs": [
    {
     "data": {
      "text/html": [
       "<div>\n",
       "<style scoped>\n",
       "    .dataframe tbody tr th:only-of-type {\n",
       "        vertical-align: middle;\n",
       "    }\n",
       "\n",
       "    .dataframe tbody tr th {\n",
       "        vertical-align: top;\n",
       "    }\n",
       "\n",
       "    .dataframe thead th {\n",
       "        text-align: right;\n",
       "    }\n",
       "</style>\n",
       "<table border=\"1\" class=\"dataframe\">\n",
       "  <thead>\n",
       "    <tr style=\"text-align: right;\">\n",
       "      <th></th>\n",
       "      <th>host_id</th>\n",
       "      <th>latitude</th>\n",
       "      <th>longitude</th>\n",
       "      <th>price</th>\n",
       "      <th>minimum_nights</th>\n",
       "      <th>number_of_reviews</th>\n",
       "      <th>last_review</th>\n",
       "      <th>reviews_per_month</th>\n",
       "      <th>calculated_host_listings_count</th>\n",
       "      <th>availability_365</th>\n",
       "      <th>Year</th>\n",
       "      <th>neighbourhood_group_East Region</th>\n",
       "      <th>neighbourhood_group_North Region</th>\n",
       "      <th>neighbourhood_group_North-East Region</th>\n",
       "      <th>neighbourhood_group_West Region</th>\n",
       "      <th>room_type_Private room</th>\n",
       "      <th>room_type_Shared room</th>\n",
       "    </tr>\n",
       "  </thead>\n",
       "  <tbody>\n",
       "    <tr>\n",
       "      <th>0</th>\n",
       "      <td>266763</td>\n",
       "      <td>1.443</td>\n",
       "      <td>103.796</td>\n",
       "      <td>83</td>\n",
       "      <td>180</td>\n",
       "      <td>1</td>\n",
       "      <td>2013-10-21</td>\n",
       "      <td>0.010</td>\n",
       "      <td>2</td>\n",
       "      <td>365</td>\n",
       "      <td>2013</td>\n",
       "      <td>0</td>\n",
       "      <td>1</td>\n",
       "      <td>0</td>\n",
       "      <td>0</td>\n",
       "      <td>1</td>\n",
       "      <td>0</td>\n",
       "    </tr>\n",
       "    <tr>\n",
       "      <th>1</th>\n",
       "      <td>227796</td>\n",
       "      <td>1.332</td>\n",
       "      <td>103.785</td>\n",
       "      <td>81</td>\n",
       "      <td>90</td>\n",
       "      <td>18</td>\n",
       "      <td>2014-12-26</td>\n",
       "      <td>0.280</td>\n",
       "      <td>1</td>\n",
       "      <td>365</td>\n",
       "      <td>2014</td>\n",
       "      <td>0</td>\n",
       "      <td>0</td>\n",
       "      <td>0</td>\n",
       "      <td>0</td>\n",
       "      <td>1</td>\n",
       "      <td>0</td>\n",
       "    </tr>\n",
       "    <tr>\n",
       "      <th>2</th>\n",
       "      <td>266763</td>\n",
       "      <td>1.442</td>\n",
       "      <td>103.797</td>\n",
       "      <td>69</td>\n",
       "      <td>6</td>\n",
       "      <td>20</td>\n",
       "      <td>2015-10-01</td>\n",
       "      <td>0.200</td>\n",
       "      <td>2</td>\n",
       "      <td>365</td>\n",
       "      <td>2015</td>\n",
       "      <td>0</td>\n",
       "      <td>1</td>\n",
       "      <td>0</td>\n",
       "      <td>0</td>\n",
       "      <td>1</td>\n",
       "      <td>0</td>\n",
       "    </tr>\n",
       "    <tr>\n",
       "      <th>3</th>\n",
       "      <td>367042</td>\n",
       "      <td>1.345</td>\n",
       "      <td>103.957</td>\n",
       "      <td>206</td>\n",
       "      <td>1</td>\n",
       "      <td>14</td>\n",
       "      <td>2019-08-11</td>\n",
       "      <td>0.150</td>\n",
       "      <td>9</td>\n",
       "      <td>353</td>\n",
       "      <td>2019</td>\n",
       "      <td>1</td>\n",
       "      <td>0</td>\n",
       "      <td>0</td>\n",
       "      <td>0</td>\n",
       "      <td>1</td>\n",
       "      <td>0</td>\n",
       "    </tr>\n",
       "    <tr>\n",
       "      <th>4</th>\n",
       "      <td>367042</td>\n",
       "      <td>1.346</td>\n",
       "      <td>103.960</td>\n",
       "      <td>94</td>\n",
       "      <td>1</td>\n",
       "      <td>22</td>\n",
       "      <td>2019-07-28</td>\n",
       "      <td>0.220</td>\n",
       "      <td>9</td>\n",
       "      <td>355</td>\n",
       "      <td>2019</td>\n",
       "      <td>1</td>\n",
       "      <td>0</td>\n",
       "      <td>0</td>\n",
       "      <td>0</td>\n",
       "      <td>1</td>\n",
       "      <td>0</td>\n",
       "    </tr>\n",
       "  </tbody>\n",
       "</table>\n",
       "</div>"
      ],
      "text/plain": [
       "   host_id  latitude  longitude  price  minimum_nights  number_of_reviews  \\\n",
       "0   266763     1.443    103.796     83             180                  1   \n",
       "1   227796     1.332    103.785     81              90                 18   \n",
       "2   266763     1.442    103.797     69               6                 20   \n",
       "3   367042     1.345    103.957    206               1                 14   \n",
       "4   367042     1.346    103.960     94               1                 22   \n",
       "\n",
       "  last_review  reviews_per_month  calculated_host_listings_count  \\\n",
       "0  2013-10-21              0.010                               2   \n",
       "1  2014-12-26              0.280                               1   \n",
       "2  2015-10-01              0.200                               2   \n",
       "3  2019-08-11              0.150                               9   \n",
       "4  2019-07-28              0.220                               9   \n",
       "\n",
       "   availability_365  Year  neighbourhood_group_East Region  \\\n",
       "0               365  2013                                0   \n",
       "1               365  2014                                0   \n",
       "2               365  2015                                0   \n",
       "3               353  2019                                1   \n",
       "4               355  2019                                1   \n",
       "\n",
       "   neighbourhood_group_North Region  neighbourhood_group_North-East Region  \\\n",
       "0                                 1                                      0   \n",
       "1                                 0                                      0   \n",
       "2                                 1                                      0   \n",
       "3                                 0                                      0   \n",
       "4                                 0                                      0   \n",
       "\n",
       "   neighbourhood_group_West Region  room_type_Private room  \\\n",
       "0                                0                       1   \n",
       "1                                0                       1   \n",
       "2                                0                       1   \n",
       "3                                0                       1   \n",
       "4                                0                       1   \n",
       "\n",
       "   room_type_Shared room  \n",
       "0                      0  \n",
       "1                      0  \n",
       "2                      0  \n",
       "3                      0  \n",
       "4                      0  "
      ]
     },
     "execution_count": 36,
     "metadata": {},
     "output_type": "execute_result"
    }
   ],
   "source": [
    "df.head()"
   ]
  },
  {
   "cell_type": "code",
   "execution_count": 37,
   "id": "97f37e4c",
   "metadata": {},
   "outputs": [
    {
     "data": {
      "text/plain": [
       "(7907, 17)"
      ]
     },
     "execution_count": 37,
     "metadata": {},
     "output_type": "execute_result"
    }
   ],
   "source": [
    "df.shape"
   ]
  },
  {
   "cell_type": "code",
   "execution_count": 38,
   "id": "3d53a99c",
   "metadata": {},
   "outputs": [
    {
     "data": {
      "text/plain": [
       "<AxesSubplot:>"
      ]
     },
     "execution_count": 38,
     "metadata": {},
     "output_type": "execute_result"
    },
    {
     "data": {
      "image/png": "[encoded data removed]",
      "text/plain": [
       "<Figure size 720x720 with 1 Axes>"
      ]
     },
     "metadata": {},
     "output_type": "display_data"
    }
   ],
   "source": [
    "plt.figure(figsize=(10,10))\n",
    "df[\"price\"].plot.box()"
   ]
  },
  {
   "cell_type": "code",
   "execution_count": 39,
   "id": "c106f899",
   "metadata": {},
   "outputs": [],
   "source": [
    "df['price'].values[df['price'].values>500]=500"
   ]
  },
  {
   "cell_type": "code",
   "execution_count": 40,
   "id": "5a68632a",
   "metadata": {},
   "outputs": [
    {
     "data": {
      "text/html": [
       "<div>\n",
       "<style scoped>\n",
       "    .dataframe tbody tr th:only-of-type {\n",
       "        vertical-align: middle;\n",
       "    }\n",
       "\n",
       "    .dataframe tbody tr th {\n",
       "        vertical-align: top;\n",
       "    }\n",
       "\n",
       "    .dataframe thead th {\n",
       "        text-align: right;\n",
       "    }\n",
       "</style>\n",
       "<table border=\"1\" class=\"dataframe\">\n",
       "  <thead>\n",
       "    <tr style=\"text-align: right;\">\n",
       "      <th></th>\n",
       "      <th>host_id</th>\n",
       "      <th>latitude</th>\n",
       "      <th>longitude</th>\n",
       "      <th>price</th>\n",
       "      <th>minimum_nights</th>\n",
       "      <th>number_of_reviews</th>\n",
       "      <th>last_review</th>\n",
       "      <th>reviews_per_month</th>\n",
       "      <th>calculated_host_listings_count</th>\n",
       "      <th>availability_365</th>\n",
       "      <th>Year</th>\n",
       "      <th>neighbourhood_group_East Region</th>\n",
       "      <th>neighbourhood_group_North Region</th>\n",
       "      <th>neighbourhood_group_North-East Region</th>\n",
       "      <th>neighbourhood_group_West Region</th>\n",
       "      <th>room_type_Private room</th>\n",
       "      <th>room_type_Shared room</th>\n",
       "    </tr>\n",
       "  </thead>\n",
       "  <tbody>\n",
       "  </tbody>\n",
       "</table>\n",
       "</div>"
      ],
      "text/plain": [
       "Empty DataFrame\n",
       "Columns: [host_id, latitude, longitude, price, minimum_nights, number_of_reviews, last_review, reviews_per_month, calculated_host_listings_count, availability_365, Year, neighbourhood_group_East Region, neighbourhood_group_North Region, neighbourhood_group_North-East Region, neighbourhood_group_West Region, room_type_Private room, room_type_Shared room]\n",
       "Index: []"
      ]
     },
     "execution_count": 40,
     "metadata": {},
     "output_type": "execute_result"
    }
   ],
   "source": [
    "df[df['price']>500]"
   ]
  },
  {
   "cell_type": "code",
   "execution_count": 41,
   "id": "f5e1a2d4",
   "metadata": {},
   "outputs": [
    {
     "data": {
      "text/plain": [
       "<AxesSubplot:>"
      ]
     },
     "execution_count": 41,
     "metadata": {},
     "output_type": "execute_result"
    },
    {
     "data": {
      "image/png": "[encoded data removed]",
      "text/plain": [
       "<Figure size 432x288 with 1 Axes>"
      ]
     },
     "metadata": {},
     "output_type": "display_data"
    }
   ],
   "source": [
    "df['price'].plot.box()"
   ]
  },
  {
   "cell_type": "code",
   "execution_count": 42,
   "id": "acd42226",
   "metadata": {},
   "outputs": [],
   "source": [
    "df['price'].values[df['price'].values>400]=400"
   ]
  },
  {
   "cell_type": "code",
   "execution_count": 43,
   "id": "d6f9c6cb",
   "metadata": {},
   "outputs": [
    {
     "data": {
      "text/html": [
       "<div>\n",
       "<style scoped>\n",
       "    .dataframe tbody tr th:only-of-type {\n",
       "        vertical-align: middle;\n",
       "    }\n",
       "\n",
       "    .dataframe tbody tr th {\n",
       "        vertical-align: top;\n",
       "    }\n",
       "\n",
       "    .dataframe thead th {\n",
       "        text-align: right;\n",
       "    }\n",
       "</style>\n",
       "<table border=\"1\" class=\"dataframe\">\n",
       "  <thead>\n",
       "    <tr style=\"text-align: right;\">\n",
       "      <th></th>\n",
       "      <th>host_id</th>\n",
       "      <th>latitude</th>\n",
       "      <th>longitude</th>\n",
       "      <th>price</th>\n",
       "      <th>minimum_nights</th>\n",
       "      <th>number_of_reviews</th>\n",
       "      <th>last_review</th>\n",
       "      <th>reviews_per_month</th>\n",
       "      <th>calculated_host_listings_count</th>\n",
       "      <th>availability_365</th>\n",
       "      <th>Year</th>\n",
       "      <th>neighbourhood_group_East Region</th>\n",
       "      <th>neighbourhood_group_North Region</th>\n",
       "      <th>neighbourhood_group_North-East Region</th>\n",
       "      <th>neighbourhood_group_West Region</th>\n",
       "      <th>room_type_Private room</th>\n",
       "      <th>room_type_Shared room</th>\n",
       "    </tr>\n",
       "  </thead>\n",
       "  <tbody>\n",
       "  </tbody>\n",
       "</table>\n",
       "</div>"
      ],
      "text/plain": [
       "Empty DataFrame\n",
       "Columns: [host_id, latitude, longitude, price, minimum_nights, number_of_reviews, last_review, reviews_per_month, calculated_host_listings_count, availability_365, Year, neighbourhood_group_East Region, neighbourhood_group_North Region, neighbourhood_group_North-East Region, neighbourhood_group_West Region, room_type_Private room, room_type_Shared room]\n",
       "Index: []"
      ]
     },
     "execution_count": 43,
     "metadata": {},
     "output_type": "execute_result"
    }
   ],
   "source": [
    "df[df['price']>400]"
   ]
  },
  {
   "cell_type": "code",
   "execution_count": 44,
   "id": "64ae7598",
   "metadata": {},
   "outputs": [
    {
     "data": {
      "text/plain": [
       "<AxesSubplot:>"
      ]
     },
     "execution_count": 44,
     "metadata": {},
     "output_type": "execute_result"
    },
    {
     "data": {
      "image/png": "[encoded data removed]",
      "text/plain": [
       "<Figure size 432x288 with 1 Axes>"
      ]
     },
     "metadata": {},
     "output_type": "display_data"
    }
   ],
   "source": [
    "df['price'].plot.box()"
   ]
  },
  {
   "cell_type": "code",
   "execution_count": 45,
   "id": "ac2b4c57",
   "metadata": {},
   "outputs": [],
   "source": [
    "df['Month']=df['last_review'].dt.month   #adds a month cloumn with the month contents from the last_review column"
   ]
  },
  {
   "cell_type": "code",
   "execution_count": 46,
   "id": "5a2cc6b8",
   "metadata": {},
   "outputs": [
    {
     "data": {
      "text/html": [
       "<div>\n",
       "<style scoped>\n",
       "    .dataframe tbody tr th:only-of-type {\n",
       "        vertical-align: middle;\n",
       "    }\n",
       "\n",
       "    .dataframe tbody tr th {\n",
       "        vertical-align: top;\n",
       "    }\n",
       "\n",
       "    .dataframe thead th {\n",
       "        text-align: right;\n",
       "    }\n",
       "</style>\n",
       "<table border=\"1\" class=\"dataframe\">\n",
       "  <thead>\n",
       "    <tr style=\"text-align: right;\">\n",
       "      <th></th>\n",
       "      <th>host_id</th>\n",
       "      <th>latitude</th>\n",
       "      <th>longitude</th>\n",
       "      <th>price</th>\n",
       "      <th>minimum_nights</th>\n",
       "      <th>number_of_reviews</th>\n",
       "      <th>last_review</th>\n",
       "      <th>reviews_per_month</th>\n",
       "      <th>calculated_host_listings_count</th>\n",
       "      <th>availability_365</th>\n",
       "      <th>Year</th>\n",
       "      <th>neighbourhood_group_East Region</th>\n",
       "      <th>neighbourhood_group_North Region</th>\n",
       "      <th>neighbourhood_group_North-East Region</th>\n",
       "      <th>neighbourhood_group_West Region</th>\n",
       "      <th>room_type_Private room</th>\n",
       "      <th>room_type_Shared room</th>\n",
       "      <th>Month</th>\n",
       "    </tr>\n",
       "  </thead>\n",
       "  <tbody>\n",
       "    <tr>\n",
       "      <th>0</th>\n",
       "      <td>266763</td>\n",
       "      <td>1.443</td>\n",
       "      <td>103.796</td>\n",
       "      <td>83</td>\n",
       "      <td>180</td>\n",
       "      <td>1</td>\n",
       "      <td>2013-10-21</td>\n",
       "      <td>0.010</td>\n",
       "      <td>2</td>\n",
       "      <td>365</td>\n",
       "      <td>2013</td>\n",
       "      <td>0</td>\n",
       "      <td>1</td>\n",
       "      <td>0</td>\n",
       "      <td>0</td>\n",
       "      <td>1</td>\n",
       "      <td>0</td>\n",
       "      <td>10</td>\n",
       "    </tr>\n",
       "    <tr>\n",
       "      <th>1</th>\n",
       "      <td>227796</td>\n",
       "      <td>1.332</td>\n",
       "      <td>103.785</td>\n",
       "      <td>81</td>\n",
       "      <td>90</td>\n",
       "      <td>18</td>\n",
       "      <td>2014-12-26</td>\n",
       "      <td>0.280</td>\n",
       "      <td>1</td>\n",
       "      <td>365</td>\n",
       "      <td>2014</td>\n",
       "      <td>0</td>\n",
       "      <td>0</td>\n",
       "      <td>0</td>\n",
       "      <td>0</td>\n",
       "      <td>1</td>\n",
       "      <td>0</td>\n",
       "      <td>12</td>\n",
       "    </tr>\n",
       "    <tr>\n",
       "      <th>2</th>\n",
       "      <td>266763</td>\n",
       "      <td>1.442</td>\n",
       "      <td>103.797</td>\n",
       "      <td>69</td>\n",
       "      <td>6</td>\n",
       "      <td>20</td>\n",
       "      <td>2015-10-01</td>\n",
       "      <td>0.200</td>\n",
       "      <td>2</td>\n",
       "      <td>365</td>\n",
       "      <td>2015</td>\n",
       "      <td>0</td>\n",
       "      <td>1</td>\n",
       "      <td>0</td>\n",
       "      <td>0</td>\n",
       "      <td>1</td>\n",
       "      <td>0</td>\n",
       "      <td>10</td>\n",
       "    </tr>\n",
       "    <tr>\n",
       "      <th>3</th>\n",
       "      <td>367042</td>\n",
       "      <td>1.345</td>\n",
       "      <td>103.957</td>\n",
       "      <td>206</td>\n",
       "      <td>1</td>\n",
       "      <td>14</td>\n",
       "      <td>2019-08-11</td>\n",
       "      <td>0.150</td>\n",
       "      <td>9</td>\n",
       "      <td>353</td>\n",
       "      <td>2019</td>\n",
       "      <td>1</td>\n",
       "      <td>0</td>\n",
       "      <td>0</td>\n",
       "      <td>0</td>\n",
       "      <td>1</td>\n",
       "      <td>0</td>\n",
       "      <td>8</td>\n",
       "    </tr>\n",
       "    <tr>\n",
       "      <th>4</th>\n",
       "      <td>367042</td>\n",
       "      <td>1.346</td>\n",
       "      <td>103.960</td>\n",
       "      <td>94</td>\n",
       "      <td>1</td>\n",
       "      <td>22</td>\n",
       "      <td>2019-07-28</td>\n",
       "      <td>0.220</td>\n",
       "      <td>9</td>\n",
       "      <td>355</td>\n",
       "      <td>2019</td>\n",
       "      <td>1</td>\n",
       "      <td>0</td>\n",
       "      <td>0</td>\n",
       "      <td>0</td>\n",
       "      <td>1</td>\n",
       "      <td>0</td>\n",
       "      <td>7</td>\n",
       "    </tr>\n",
       "    <tr>\n",
       "      <th>...</th>\n",
       "      <td>...</td>\n",
       "      <td>...</td>\n",
       "      <td>...</td>\n",
       "      <td>...</td>\n",
       "      <td>...</td>\n",
       "      <td>...</td>\n",
       "      <td>...</td>\n",
       "      <td>...</td>\n",
       "      <td>...</td>\n",
       "      <td>...</td>\n",
       "      <td>...</td>\n",
       "      <td>...</td>\n",
       "      <td>...</td>\n",
       "      <td>...</td>\n",
       "      <td>...</td>\n",
       "      <td>...</td>\n",
       "      <td>...</td>\n",
       "      <td>...</td>\n",
       "    </tr>\n",
       "    <tr>\n",
       "      <th>7902</th>\n",
       "      <td>278109833</td>\n",
       "      <td>1.280</td>\n",
       "      <td>103.788</td>\n",
       "      <td>100</td>\n",
       "      <td>3</td>\n",
       "      <td>0</td>\n",
       "      <td>2012-01-01</td>\n",
       "      <td>0.000</td>\n",
       "      <td>31</td>\n",
       "      <td>61</td>\n",
       "      <td>0</td>\n",
       "      <td>0</td>\n",
       "      <td>0</td>\n",
       "      <td>0</td>\n",
       "      <td>0</td>\n",
       "      <td>0</td>\n",
       "      <td>0</td>\n",
       "      <td>1</td>\n",
       "    </tr>\n",
       "    <tr>\n",
       "      <th>7903</th>\n",
       "      <td>238891646</td>\n",
       "      <td>1.293</td>\n",
       "      <td>103.826</td>\n",
       "      <td>400</td>\n",
       "      <td>6</td>\n",
       "      <td>0</td>\n",
       "      <td>2012-01-01</td>\n",
       "      <td>0.000</td>\n",
       "      <td>34</td>\n",
       "      <td>365</td>\n",
       "      <td>0</td>\n",
       "      <td>0</td>\n",
       "      <td>0</td>\n",
       "      <td>0</td>\n",
       "      <td>0</td>\n",
       "      <td>0</td>\n",
       "      <td>0</td>\n",
       "      <td>1</td>\n",
       "    </tr>\n",
       "    <tr>\n",
       "      <th>7904</th>\n",
       "      <td>281448565</td>\n",
       "      <td>1.313</td>\n",
       "      <td>103.860</td>\n",
       "      <td>58</td>\n",
       "      <td>30</td>\n",
       "      <td>0</td>\n",
       "      <td>2012-01-01</td>\n",
       "      <td>0.000</td>\n",
       "      <td>3</td>\n",
       "      <td>173</td>\n",
       "      <td>0</td>\n",
       "      <td>0</td>\n",
       "      <td>0</td>\n",
       "      <td>0</td>\n",
       "      <td>0</td>\n",
       "      <td>1</td>\n",
       "      <td>0</td>\n",
       "      <td>1</td>\n",
       "    </tr>\n",
       "    <tr>\n",
       "      <th>7905</th>\n",
       "      <td>243835202</td>\n",
       "      <td>1.295</td>\n",
       "      <td>103.838</td>\n",
       "      <td>56</td>\n",
       "      <td>14</td>\n",
       "      <td>0</td>\n",
       "      <td>2012-01-01</td>\n",
       "      <td>0.000</td>\n",
       "      <td>2</td>\n",
       "      <td>30</td>\n",
       "      <td>0</td>\n",
       "      <td>0</td>\n",
       "      <td>0</td>\n",
       "      <td>0</td>\n",
       "      <td>0</td>\n",
       "      <td>1</td>\n",
       "      <td>0</td>\n",
       "      <td>1</td>\n",
       "    </tr>\n",
       "    <tr>\n",
       "      <th>7906</th>\n",
       "      <td>28788520</td>\n",
       "      <td>1.297</td>\n",
       "      <td>103.833</td>\n",
       "      <td>65</td>\n",
       "      <td>90</td>\n",
       "      <td>0</td>\n",
       "      <td>2012-01-01</td>\n",
       "      <td>0.000</td>\n",
       "      <td>7</td>\n",
       "      <td>365</td>\n",
       "      <td>0</td>\n",
       "      <td>0</td>\n",
       "      <td>0</td>\n",
       "      <td>0</td>\n",
       "      <td>0</td>\n",
       "      <td>1</td>\n",
       "      <td>0</td>\n",
       "      <td>1</td>\n",
       "    </tr>\n",
       "  </tbody>\n",
       "</table>\n",
       "<p>7907 rows × 18 columns</p>\n",
       "</div>"
      ],
      "text/plain": [
       "        host_id  latitude  longitude  price  minimum_nights  \\\n",
       "0        266763     1.443    103.796     83             180   \n",
       "1        227796     1.332    103.785     81              90   \n",
       "2        266763     1.442    103.797     69               6   \n",
       "3        367042     1.345    103.957    206               1   \n",
       "4        367042     1.346    103.960     94               1   \n",
       "...         ...       ...        ...    ...             ...   \n",
       "7902  278109833     1.280    103.788    100               3   \n",
       "7903  238891646     1.293    103.826    400               6   \n",
       "7904  281448565     1.313    103.860     58              30   \n",
       "7905  243835202     1.295    103.838     56              14   \n",
       "7906   28788520     1.297    103.833     65              90   \n",
       "\n",
       "      number_of_reviews last_review  reviews_per_month  \\\n",
       "0                     1  2013-10-21              0.010   \n",
       "1                    18  2014-12-26              0.280   \n",
       "2                    20  2015-10-01              0.200   \n",
       "3                    14  2019-08-11              0.150   \n",
       "4                    22  2019-07-28              0.220   \n",
       "...                 ...         ...                ...   \n",
       "7902                  0  2012-01-01              0.000   \n",
       "7903                  0  2012-01-01              0.000   \n",
       "7904                  0  2012-01-01              0.000   \n",
       "7905                  0  2012-01-01              0.000   \n",
       "7906                  0  2012-01-01              0.000   \n",
       "\n",
       "      calculated_host_listings_count  availability_365  Year  \\\n",
       "0                                  2               365  2013   \n",
       "1                                  1               365  2014   \n",
       "2                                  2               365  2015   \n",
       "3                                  9               353  2019   \n",
       "4                                  9               355  2019   \n",
       "...                              ...               ...   ...   \n",
       "7902                              31                61     0   \n",
       "7903                              34               365     0   \n",
       "7904                               3               173     0   \n",
       "7905                               2                30     0   \n",
       "7906                               7               365     0   \n",
       "\n",
       "      neighbourhood_group_East Region  neighbourhood_group_North Region  \\\n",
       "0                                   0                                 1   \n",
       "1                                   0                                 0   \n",
       "2                                   0                                 1   \n",
       "3                                   1                                 0   \n",
       "4                                   1                                 0   \n",
       "...                               ...                               ...   \n",
       "7902                                0                                 0   \n",
       "7903                                0                                 0   \n",
       "7904                                0                                 0   \n",
       "7905                                0                                 0   \n",
       "7906                                0                                 0   \n",
       "\n",
       "      neighbourhood_group_North-East Region  neighbourhood_group_West Region  \\\n",
       "0                                         0                                0   \n",
       "1                                         0                                0   \n",
       "2                                         0                                0   \n",
       "3                                         0                                0   \n",
       "4                                         0                                0   \n",
       "...                                     ...                              ...   \n",
       "7902                                      0                                0   \n",
       "7903                                      0                                0   \n",
       "7904                                      0                                0   \n",
       "7905                                      0                                0   \n",
       "7906                                      0                                0   \n",
       "\n",
       "      room_type_Private room  room_type_Shared room  Month  \n",
       "0                          1                      0     10  \n",
       "1                          1                      0     12  \n",
       "2                          1                      0     10  \n",
       "3                          1                      0      8  \n",
       "4                          1                      0      7  \n",
       "...                      ...                    ...    ...  \n",
       "7902                       0                      0      1  \n",
       "7903                       0                      0      1  \n",
       "7904                       1                      0      1  \n",
       "7905                       1                      0      1  \n",
       "7906                       1                      0      1  \n",
       "\n",
       "[7907 rows x 18 columns]"
      ]
     },
     "execution_count": 46,
     "metadata": {},
     "output_type": "execute_result"
    }
   ],
   "source": [
    "df"
   ]
  },
  {
   "cell_type": "markdown",
   "id": "32cb24a6",
   "metadata": {},
   "source": [
    "# Checking For MultiCollinearity"
   ]
  },
  {
   "cell_type": "code",
   "execution_count": 47,
   "id": "747dbc2e",
   "metadata": {},
   "outputs": [
    {
     "data": {
      "text/html": [
       "<div>\n",
       "<style scoped>\n",
       "    .dataframe tbody tr th:only-of-type {\n",
       "        vertical-align: middle;\n",
       "    }\n",
       "\n",
       "    .dataframe tbody tr th {\n",
       "        vertical-align: top;\n",
       "    }\n",
       "\n",
       "    .dataframe thead th {\n",
       "        text-align: right;\n",
       "    }\n",
       "</style>\n",
       "<table border=\"1\" class=\"dataframe\">\n",
       "  <thead>\n",
       "    <tr style=\"text-align: right;\">\n",
       "      <th></th>\n",
       "      <th>host_id</th>\n",
       "      <th>latitude</th>\n",
       "      <th>longitude</th>\n",
       "      <th>price</th>\n",
       "      <th>minimum_nights</th>\n",
       "      <th>number_of_reviews</th>\n",
       "      <th>reviews_per_month</th>\n",
       "      <th>calculated_host_listings_count</th>\n",
       "      <th>availability_365</th>\n",
       "      <th>Year</th>\n",
       "      <th>neighbourhood_group_East Region</th>\n",
       "      <th>neighbourhood_group_North Region</th>\n",
       "      <th>neighbourhood_group_North-East Region</th>\n",
       "      <th>neighbourhood_group_West Region</th>\n",
       "      <th>room_type_Private room</th>\n",
       "      <th>room_type_Shared room</th>\n",
       "      <th>Month</th>\n",
       "    </tr>\n",
       "  </thead>\n",
       "  <tbody>\n",
       "    <tr>\n",
       "      <th>host_id</th>\n",
       "      <td>1.000</td>\n",
       "      <td>-0.041</td>\n",
       "      <td>-0.016</td>\n",
       "      <td>0.146</td>\n",
       "      <td>-0.090</td>\n",
       "      <td>-0.176</td>\n",
       "      <td>0.040</td>\n",
       "      <td>-0.064</td>\n",
       "      <td>0.042</td>\n",
       "      <td>-0.181</td>\n",
       "      <td>-0.037</td>\n",
       "      <td>-0.008</td>\n",
       "      <td>-0.021</td>\n",
       "      <td>-0.001</td>\n",
       "      <td>-0.106</td>\n",
       "      <td>-0.001</td>\n",
       "      <td>-0.138</td>\n",
       "    </tr>\n",
       "    <tr>\n",
       "      <th>latitude</th>\n",
       "      <td>-0.041</td>\n",
       "      <td>1.000</td>\n",
       "      <td>-0.035</td>\n",
       "      <td>-0.191</td>\n",
       "      <td>0.085</td>\n",
       "      <td>-0.015</td>\n",
       "      <td>-0.038</td>\n",
       "      <td>-0.150</td>\n",
       "      <td>-0.069</td>\n",
       "      <td>-0.040</td>\n",
       "      <td>0.136</td>\n",
       "      <td>0.560</td>\n",
       "      <td>0.425</td>\n",
       "      <td>0.264</td>\n",
       "      <td>0.232</td>\n",
       "      <td>-0.057</td>\n",
       "      <td>-0.023</td>\n",
       "    </tr>\n",
       "    <tr>\n",
       "      <th>longitude</th>\n",
       "      <td>-0.016</td>\n",
       "      <td>-0.035</td>\n",
       "      <td>1.000</td>\n",
       "      <td>0.011</td>\n",
       "      <td>-0.029</td>\n",
       "      <td>0.102</td>\n",
       "      <td>0.100</td>\n",
       "      <td>0.049</td>\n",
       "      <td>-0.036</td>\n",
       "      <td>0.032</td>\n",
       "      <td>0.487</td>\n",
       "      <td>-0.130</td>\n",
       "      <td>0.152</td>\n",
       "      <td>-0.675</td>\n",
       "      <td>-0.056</td>\n",
       "      <td>-0.018</td>\n",
       "      <td>0.027</td>\n",
       "    </tr>\n",
       "    <tr>\n",
       "      <th>price</th>\n",
       "      <td>0.146</td>\n",
       "      <td>-0.191</td>\n",
       "      <td>0.011</td>\n",
       "      <td>1.000</td>\n",
       "      <td>-0.104</td>\n",
       "      <td>-0.062</td>\n",
       "      <td>0.000</td>\n",
       "      <td>0.161</td>\n",
       "      <td>0.120</td>\n",
       "      <td>-0.085</td>\n",
       "      <td>-0.084</td>\n",
       "      <td>-0.066</td>\n",
       "      <td>-0.121</td>\n",
       "      <td>-0.097</td>\n",
       "      <td>-0.487</td>\n",
       "      <td>-0.208</td>\n",
       "      <td>-0.066</td>\n",
       "    </tr>\n",
       "    <tr>\n",
       "      <th>minimum_nights</th>\n",
       "      <td>-0.090</td>\n",
       "      <td>0.085</td>\n",
       "      <td>-0.029</td>\n",
       "      <td>-0.104</td>\n",
       "      <td>1.000</td>\n",
       "      <td>-0.076</td>\n",
       "      <td>-0.149</td>\n",
       "      <td>-0.014</td>\n",
       "      <td>0.150</td>\n",
       "      <td>-0.164</td>\n",
       "      <td>0.051</td>\n",
       "      <td>0.044</td>\n",
       "      <td>0.072</td>\n",
       "      <td>0.027</td>\n",
       "      <td>0.083</td>\n",
       "      <td>-0.073</td>\n",
       "      <td>-0.142</td>\n",
       "    </tr>\n",
       "    <tr>\n",
       "      <th>number_of_reviews</th>\n",
       "      <td>-0.176</td>\n",
       "      <td>-0.015</td>\n",
       "      <td>0.102</td>\n",
       "      <td>-0.062</td>\n",
       "      <td>-0.076</td>\n",
       "      <td>1.000</td>\n",
       "      <td>0.674</td>\n",
       "      <td>-0.150</td>\n",
       "      <td>-0.067</td>\n",
       "      <td>0.316</td>\n",
       "      <td>0.053</td>\n",
       "      <td>-0.019</td>\n",
       "      <td>-0.006</td>\n",
       "      <td>-0.060</td>\n",
       "      <td>0.023</td>\n",
       "      <td>-0.003</td>\n",
       "      <td>0.323</td>\n",
       "    </tr>\n",
       "    <tr>\n",
       "      <th>reviews_per_month</th>\n",
       "      <td>0.040</td>\n",
       "      <td>-0.038</td>\n",
       "      <td>0.100</td>\n",
       "      <td>0.000</td>\n",
       "      <td>-0.149</td>\n",
       "      <td>0.674</td>\n",
       "      <td>1.000</td>\n",
       "      <td>-0.181</td>\n",
       "      <td>-0.108</td>\n",
       "      <td>0.433</td>\n",
       "      <td>0.014</td>\n",
       "      <td>-0.016</td>\n",
       "      <td>-0.012</td>\n",
       "      <td>-0.074</td>\n",
       "      <td>-0.001</td>\n",
       "      <td>-0.030</td>\n",
       "      <td>0.459</td>\n",
       "    </tr>\n",
       "    <tr>\n",
       "      <th>calculated_host_listings_count</th>\n",
       "      <td>-0.064</td>\n",
       "      <td>-0.150</td>\n",
       "      <td>0.049</td>\n",
       "      <td>0.161</td>\n",
       "      <td>-0.014</td>\n",
       "      <td>-0.150</td>\n",
       "      <td>-0.181</td>\n",
       "      <td>1.000</td>\n",
       "      <td>0.246</td>\n",
       "      <td>-0.113</td>\n",
       "      <td>-0.114</td>\n",
       "      <td>-0.064</td>\n",
       "      <td>-0.123</td>\n",
       "      <td>-0.074</td>\n",
       "      <td>-0.327</td>\n",
       "      <td>-0.075</td>\n",
       "      <td>-0.140</td>\n",
       "    </tr>\n",
       "    <tr>\n",
       "      <th>availability_365</th>\n",
       "      <td>0.042</td>\n",
       "      <td>-0.069</td>\n",
       "      <td>-0.036</td>\n",
       "      <td>0.120</td>\n",
       "      <td>0.150</td>\n",
       "      <td>-0.067</td>\n",
       "      <td>-0.108</td>\n",
       "      <td>0.246</td>\n",
       "      <td>1.000</td>\n",
       "      <td>-0.071</td>\n",
       "      <td>-0.062</td>\n",
       "      <td>0.006</td>\n",
       "      <td>-0.060</td>\n",
       "      <td>-0.039</td>\n",
       "      <td>-0.062</td>\n",
       "      <td>0.102</td>\n",
       "      <td>-0.065</td>\n",
       "    </tr>\n",
       "    <tr>\n",
       "      <th>Year</th>\n",
       "      <td>-0.181</td>\n",
       "      <td>-0.040</td>\n",
       "      <td>0.032</td>\n",
       "      <td>-0.085</td>\n",
       "      <td>-0.164</td>\n",
       "      <td>0.316</td>\n",
       "      <td>0.433</td>\n",
       "      <td>-0.113</td>\n",
       "      <td>-0.071</td>\n",
       "      <td>1.000</td>\n",
       "      <td>0.015</td>\n",
       "      <td>-0.042</td>\n",
       "      <td>-0.013</td>\n",
       "      <td>-0.015</td>\n",
       "      <td>0.015</td>\n",
       "      <td>0.025</td>\n",
       "      <td>0.802</td>\n",
       "    </tr>\n",
       "    <tr>\n",
       "      <th>neighbourhood_group_East Region</th>\n",
       "      <td>-0.037</td>\n",
       "      <td>0.136</td>\n",
       "      <td>0.487</td>\n",
       "      <td>-0.084</td>\n",
       "      <td>0.051</td>\n",
       "      <td>0.053</td>\n",
       "      <td>0.014</td>\n",
       "      <td>-0.114</td>\n",
       "      <td>-0.062</td>\n",
       "      <td>0.015</td>\n",
       "      <td>1.000</td>\n",
       "      <td>-0.043</td>\n",
       "      <td>-0.056</td>\n",
       "      <td>-0.071</td>\n",
       "      <td>0.155</td>\n",
       "      <td>-0.034</td>\n",
       "      <td>0.010</td>\n",
       "    </tr>\n",
       "    <tr>\n",
       "      <th>neighbourhood_group_North Region</th>\n",
       "      <td>-0.008</td>\n",
       "      <td>0.560</td>\n",
       "      <td>-0.130</td>\n",
       "      <td>-0.066</td>\n",
       "      <td>0.044</td>\n",
       "      <td>-0.019</td>\n",
       "      <td>-0.016</td>\n",
       "      <td>-0.064</td>\n",
       "      <td>0.006</td>\n",
       "      <td>-0.042</td>\n",
       "      <td>-0.043</td>\n",
       "      <td>1.000</td>\n",
       "      <td>-0.035</td>\n",
       "      <td>-0.044</td>\n",
       "      <td>0.088</td>\n",
       "      <td>-0.004</td>\n",
       "      <td>-0.024</td>\n",
       "    </tr>\n",
       "    <tr>\n",
       "      <th>neighbourhood_group_North-East Region</th>\n",
       "      <td>-0.021</td>\n",
       "      <td>0.425</td>\n",
       "      <td>0.152</td>\n",
       "      <td>-0.121</td>\n",
       "      <td>0.072</td>\n",
       "      <td>-0.006</td>\n",
       "      <td>-0.012</td>\n",
       "      <td>-0.123</td>\n",
       "      <td>-0.060</td>\n",
       "      <td>-0.013</td>\n",
       "      <td>-0.056</td>\n",
       "      <td>-0.035</td>\n",
       "      <td>1.000</td>\n",
       "      <td>-0.058</td>\n",
       "      <td>0.155</td>\n",
       "      <td>-0.021</td>\n",
       "      <td>-0.013</td>\n",
       "    </tr>\n",
       "    <tr>\n",
       "      <th>neighbourhood_group_West Region</th>\n",
       "      <td>-0.001</td>\n",
       "      <td>0.264</td>\n",
       "      <td>-0.675</td>\n",
       "      <td>-0.097</td>\n",
       "      <td>0.027</td>\n",
       "      <td>-0.060</td>\n",
       "      <td>-0.074</td>\n",
       "      <td>-0.074</td>\n",
       "      <td>-0.039</td>\n",
       "      <td>-0.015</td>\n",
       "      <td>-0.071</td>\n",
       "      <td>-0.044</td>\n",
       "      <td>-0.058</td>\n",
       "      <td>1.000</td>\n",
       "      <td>0.149</td>\n",
       "      <td>-0.025</td>\n",
       "      <td>-0.014</td>\n",
       "    </tr>\n",
       "    <tr>\n",
       "      <th>room_type_Private room</th>\n",
       "      <td>-0.106</td>\n",
       "      <td>0.232</td>\n",
       "      <td>-0.056</td>\n",
       "      <td>-0.487</td>\n",
       "      <td>0.083</td>\n",
       "      <td>0.023</td>\n",
       "      <td>-0.001</td>\n",
       "      <td>-0.327</td>\n",
       "      <td>-0.062</td>\n",
       "      <td>0.015</td>\n",
       "      <td>0.155</td>\n",
       "      <td>0.088</td>\n",
       "      <td>0.155</td>\n",
       "      <td>0.149</td>\n",
       "      <td>1.000</td>\n",
       "      <td>-0.198</td>\n",
       "      <td>0.027</td>\n",
       "    </tr>\n",
       "    <tr>\n",
       "      <th>room_type_Shared room</th>\n",
       "      <td>-0.001</td>\n",
       "      <td>-0.057</td>\n",
       "      <td>-0.018</td>\n",
       "      <td>-0.208</td>\n",
       "      <td>-0.073</td>\n",
       "      <td>-0.003</td>\n",
       "      <td>-0.030</td>\n",
       "      <td>-0.075</td>\n",
       "      <td>0.102</td>\n",
       "      <td>0.025</td>\n",
       "      <td>-0.034</td>\n",
       "      <td>-0.004</td>\n",
       "      <td>-0.021</td>\n",
       "      <td>-0.025</td>\n",
       "      <td>-0.198</td>\n",
       "      <td>1.000</td>\n",
       "      <td>0.009</td>\n",
       "    </tr>\n",
       "    <tr>\n",
       "      <th>Month</th>\n",
       "      <td>-0.138</td>\n",
       "      <td>-0.023</td>\n",
       "      <td>0.027</td>\n",
       "      <td>-0.066</td>\n",
       "      <td>-0.142</td>\n",
       "      <td>0.323</td>\n",
       "      <td>0.459</td>\n",
       "      <td>-0.140</td>\n",
       "      <td>-0.065</td>\n",
       "      <td>0.802</td>\n",
       "      <td>0.010</td>\n",
       "      <td>-0.024</td>\n",
       "      <td>-0.013</td>\n",
       "      <td>-0.014</td>\n",
       "      <td>0.027</td>\n",
       "      <td>0.009</td>\n",
       "      <td>1.000</td>\n",
       "    </tr>\n",
       "  </tbody>\n",
       "</table>\n",
       "</div>"
      ],
      "text/plain": [
       "                                       host_id  latitude  longitude  price  \\\n",
       "host_id                                  1.000    -0.041     -0.016  0.146   \n",
       "latitude                                -0.041     1.000     -0.035 -0.191   \n",
       "longitude                               -0.016    -0.035      1.000  0.011   \n",
       "price                                    0.146    -0.191      0.011  1.000   \n",
       "minimum_nights                          -0.090     0.085     -0.029 -0.104   \n",
       "number_of_reviews                       -0.176    -0.015      0.102 -0.062   \n",
       "reviews_per_month                        0.040    -0.038      0.100  0.000   \n",
       "calculated_host_listings_count          -0.064    -0.150      0.049  0.161   \n",
       "availability_365                         0.042    -0.069     -0.036  0.120   \n",
       "Year                                    -0.181    -0.040      0.032 -0.085   \n",
       "neighbourhood_group_East Region         -0.037     0.136      0.487 -0.084   \n",
       "neighbourhood_group_North Region        -0.008     0.560     -0.130 -0.066   \n",
       "neighbourhood_group_North-East Region   -0.021     0.425      0.152 -0.121   \n",
       "neighbourhood_group_West Region         -0.001     0.264     -0.675 -0.097   \n",
       "room_type_Private room                  -0.106     0.232     -0.056 -0.487   \n",
       "room_type_Shared room                   -0.001    -0.057     -0.018 -0.208   \n",
       "Month                                   -0.138    -0.023      0.027 -0.066   \n",
       "\n",
       "                                       minimum_nights  number_of_reviews  \\\n",
       "host_id                                        -0.090             -0.176   \n",
       "latitude                                        0.085             -0.015   \n",
       "longitude                                      -0.029              0.102   \n",
       "price                                          -0.104             -0.062   \n",
       "minimum_nights                                  1.000             -0.076   \n",
       "number_of_reviews                              -0.076              1.000   \n",
       "reviews_per_month                              -0.149              0.674   \n",
       "calculated_host_listings_count                 -0.014             -0.150   \n",
       "availability_365                                0.150             -0.067   \n",
       "Year                                           -0.164              0.316   \n",
       "neighbourhood_group_East Region                 0.051              0.053   \n",
       "neighbourhood_group_North Region                0.044             -0.019   \n",
       "neighbourhood_group_North-East Region           0.072             -0.006   \n",
       "neighbourhood_group_West Region                 0.027             -0.060   \n",
       "room_type_Private room                          0.083              0.023   \n",
       "room_type_Shared room                          -0.073             -0.003   \n",
       "Month                                          -0.142              0.323   \n",
       "\n",
       "                                       reviews_per_month  \\\n",
       "host_id                                            0.040   \n",
       "latitude                                          -0.038   \n",
       "longitude                                          0.100   \n",
       "price                                              0.000   \n",
       "minimum_nights                                    -0.149   \n",
       "number_of_reviews                                  0.674   \n",
       "reviews_per_month                                  1.000   \n",
       "calculated_host_listings_count                    -0.181   \n",
       "availability_365                                  -0.108   \n",
       "Year                                               0.433   \n",
       "neighbourhood_group_East Region                    0.014   \n",
       "neighbourhood_group_North Region                  -0.016   \n",
       "neighbourhood_group_North-East Region             -0.012   \n",
       "neighbourhood_group_West Region                   -0.074   \n",
       "room_type_Private room                            -0.001   \n",
       "room_type_Shared room                             -0.030   \n",
       "Month                                              0.459   \n",
       "\n",
       "                                       calculated_host_listings_count  \\\n",
       "host_id                                                        -0.064   \n",
       "latitude                                                       -0.150   \n",
       "longitude                                                       0.049   \n",
       "price                                                           0.161   \n",
       "minimum_nights                                                 -0.014   \n",
       "number_of_reviews                                              -0.150   \n",
       "reviews_per_month                                              -0.181   \n",
       "calculated_host_listings_count                                  1.000   \n",
       "availability_365                                                0.246   \n",
       "Year                                                           -0.113   \n",
       "neighbourhood_group_East Region                                -0.114   \n",
       "neighbourhood_group_North Region                               -0.064   \n",
       "neighbourhood_group_North-East Region                          -0.123   \n",
       "neighbourhood_group_West Region                                -0.074   \n",
       "room_type_Private room                                         -0.327   \n",
       "room_type_Shared room                                          -0.075   \n",
       "Month                                                          -0.140   \n",
       "\n",
       "                                       availability_365   Year  \\\n",
       "host_id                                           0.042 -0.181   \n",
       "latitude                                         -0.069 -0.040   \n",
       "longitude                                        -0.036  0.032   \n",
       "price                                             0.120 -0.085   \n",
       "minimum_nights                                    0.150 -0.164   \n",
       "number_of_reviews                                -0.067  0.316   \n",
       "reviews_per_month                                -0.108  0.433   \n",
       "calculated_host_listings_count                    0.246 -0.113   \n",
       "availability_365                                  1.000 -0.071   \n",
       "Year                                             -0.071  1.000   \n",
       "neighbourhood_group_East Region                  -0.062  0.015   \n",
       "neighbourhood_group_North Region                  0.006 -0.042   \n",
       "neighbourhood_group_North-East Region            -0.060 -0.013   \n",
       "neighbourhood_group_West Region                  -0.039 -0.015   \n",
       "room_type_Private room                           -0.062  0.015   \n",
       "room_type_Shared room                             0.102  0.025   \n",
       "Month                                            -0.065  0.802   \n",
       "\n",
       "                                       neighbourhood_group_East Region  \\\n",
       "host_id                                                         -0.037   \n",
       "latitude                                                         0.136   \n",
       "longitude                                                        0.487   \n",
       "price                                                           -0.084   \n",
       "minimum_nights                                                   0.051   \n",
       "number_of_reviews                                                0.053   \n",
       "reviews_per_month                                                0.014   \n",
       "calculated_host_listings_count                                  -0.114   \n",
       "availability_365                                                -0.062   \n",
       "Year                                                             0.015   \n",
       "neighbourhood_group_East Region                                  1.000   \n",
       "neighbourhood_group_North Region                                -0.043   \n",
       "neighbourhood_group_North-East Region                           -0.056   \n",
       "neighbourhood_group_West Region                                 -0.071   \n",
       "room_type_Private room                                           0.155   \n",
       "room_type_Shared room                                           -0.034   \n",
       "Month                                                            0.010   \n",
       "\n",
       "                                       neighbourhood_group_North Region  \\\n",
       "host_id                                                          -0.008   \n",
       "latitude                                                          0.560   \n",
       "longitude                                                        -0.130   \n",
       "price                                                            -0.066   \n",
       "minimum_nights                                                    0.044   \n",
       "number_of_reviews                                                -0.019   \n",
       "reviews_per_month                                                -0.016   \n",
       "calculated_host_listings_count                                   -0.064   \n",
       "availability_365                                                  0.006   \n",
       "Year                                                             -0.042   \n",
       "neighbourhood_group_East Region                                  -0.043   \n",
       "neighbourhood_group_North Region                                  1.000   \n",
       "neighbourhood_group_North-East Region                            -0.035   \n",
       "neighbourhood_group_West Region                                  -0.044   \n",
       "room_type_Private room                                            0.088   \n",
       "room_type_Shared room                                            -0.004   \n",
       "Month                                                            -0.024   \n",
       "\n",
       "                                       neighbourhood_group_North-East Region  \\\n",
       "host_id                                                               -0.021   \n",
       "latitude                                                               0.425   \n",
       "longitude                                                              0.152   \n",
       "price                                                                 -0.121   \n",
       "minimum_nights                                                         0.072   \n",
       "number_of_reviews                                                     -0.006   \n",
       "reviews_per_month                                                     -0.012   \n",
       "calculated_host_listings_count                                        -0.123   \n",
       "availability_365                                                      -0.060   \n",
       "Year                                                                  -0.013   \n",
       "neighbourhood_group_East Region                                       -0.056   \n",
       "neighbourhood_group_North Region                                      -0.035   \n",
       "neighbourhood_group_North-East Region                                  1.000   \n",
       "neighbourhood_group_West Region                                       -0.058   \n",
       "room_type_Private room                                                 0.155   \n",
       "room_type_Shared room                                                 -0.021   \n",
       "Month                                                                 -0.013   \n",
       "\n",
       "                                       neighbourhood_group_West Region  \\\n",
       "host_id                                                         -0.001   \n",
       "latitude                                                         0.264   \n",
       "longitude                                                       -0.675   \n",
       "price                                                           -0.097   \n",
       "minimum_nights                                                   0.027   \n",
       "number_of_reviews                                               -0.060   \n",
       "reviews_per_month                                               -0.074   \n",
       "calculated_host_listings_count                                  -0.074   \n",
       "availability_365                                                -0.039   \n",
       "Year                                                            -0.015   \n",
       "neighbourhood_group_East Region                                 -0.071   \n",
       "neighbourhood_group_North Region                                -0.044   \n",
       "neighbourhood_group_North-East Region                           -0.058   \n",
       "neighbourhood_group_West Region                                  1.000   \n",
       "room_type_Private room                                           0.149   \n",
       "room_type_Shared room                                           -0.025   \n",
       "Month                                                           -0.014   \n",
       "\n",
       "                                       room_type_Private room  \\\n",
       "host_id                                                -0.106   \n",
       "latitude                                                0.232   \n",
       "longitude                                              -0.056   \n",
       "price                                                  -0.487   \n",
       "minimum_nights                                          0.083   \n",
       "number_of_reviews                                       0.023   \n",
       "reviews_per_month                                      -0.001   \n",
       "calculated_host_listings_count                         -0.327   \n",
       "availability_365                                       -0.062   \n",
       "Year                                                    0.015   \n",
       "neighbourhood_group_East Region                         0.155   \n",
       "neighbourhood_group_North Region                        0.088   \n",
       "neighbourhood_group_North-East Region                   0.155   \n",
       "neighbourhood_group_West Region                         0.149   \n",
       "room_type_Private room                                  1.000   \n",
       "room_type_Shared room                                  -0.198   \n",
       "Month                                                   0.027   \n",
       "\n",
       "                                       room_type_Shared room  Month  \n",
       "host_id                                               -0.001 -0.138  \n",
       "latitude                                              -0.057 -0.023  \n",
       "longitude                                             -0.018  0.027  \n",
       "price                                                 -0.208 -0.066  \n",
       "minimum_nights                                        -0.073 -0.142  \n",
       "number_of_reviews                                     -0.003  0.323  \n",
       "reviews_per_month                                     -0.030  0.459  \n",
       "calculated_host_listings_count                        -0.075 -0.140  \n",
       "availability_365                                       0.102 -0.065  \n",
       "Year                                                   0.025  0.802  \n",
       "neighbourhood_group_East Region                       -0.034  0.010  \n",
       "neighbourhood_group_North Region                      -0.004 -0.024  \n",
       "neighbourhood_group_North-East Region                 -0.021 -0.013  \n",
       "neighbourhood_group_West Region                       -0.025 -0.014  \n",
       "room_type_Private room                                -0.198  0.027  \n",
       "room_type_Shared room                                  1.000  0.009  \n",
       "Month                                                  0.009  1.000  "
      ]
     },
     "execution_count": 47,
     "metadata": {},
     "output_type": "execute_result"
    }
   ],
   "source": [
    "cors=df.corr(method='pearson')\n",
    "cors"
   ]
  },
  {
   "cell_type": "code",
   "execution_count": 48,
   "id": "a4d093d2",
   "metadata": {},
   "outputs": [
    {
     "data": {
      "text/plain": [
       "<AxesSubplot:>"
      ]
     },
     "execution_count": 48,
     "metadata": {},
     "output_type": "execute_result"
    },
    {
     "data": {
      "image/png": "[encoded data removed]",
      "text/plain": [
       "<Figure size 1008x1008 with 2 Axes>"
      ]
     },
     "metadata": {},
     "output_type": "display_data"
    }
   ],
   "source": [
    "plt.figure(figsize=(14,14))\n",
    "sns.heatmap(cors,annot=True)"
   ]
  },
  {
   "cell_type": "code",
   "execution_count": 103,
   "id": "188fe95d",
   "metadata": {},
   "outputs": [],
   "source": [
    "x=df.drop('price',axis=1)\n",
    "y=df['price']"
   ]
  },
  {
   "cell_type": "code",
   "execution_count": 104,
   "id": "35b43f03",
   "metadata": {},
   "outputs": [],
   "source": [
    "x=x.drop('last_review',axis=1)"
   ]
  },
  {
   "cell_type": "code",
   "execution_count": 51,
   "id": "55297357",
   "metadata": {},
   "outputs": [
    {
     "data": {
      "text/html": [
       "<div>\n",
       "<style scoped>\n",
       "    .dataframe tbody tr th:only-of-type {\n",
       "        vertical-align: middle;\n",
       "    }\n",
       "\n",
       "    .dataframe tbody tr th {\n",
       "        vertical-align: top;\n",
       "    }\n",
       "\n",
       "    .dataframe thead th {\n",
       "        text-align: right;\n",
       "    }\n",
       "</style>\n",
       "<table border=\"1\" class=\"dataframe\">\n",
       "  <thead>\n",
       "    <tr style=\"text-align: right;\">\n",
       "      <th></th>\n",
       "      <th>Importance</th>\n",
       "    </tr>\n",
       "  </thead>\n",
       "  <tbody>\n",
       "    <tr>\n",
       "      <th>host_id</th>\n",
       "      <td>0.754</td>\n",
       "    </tr>\n",
       "    <tr>\n",
       "      <th>calculated_host_listings_count</th>\n",
       "      <td>0.659</td>\n",
       "    </tr>\n",
       "    <tr>\n",
       "      <th>longitude</th>\n",
       "      <td>0.395</td>\n",
       "    </tr>\n",
       "    <tr>\n",
       "      <th>latitude</th>\n",
       "      <td>0.356</td>\n",
       "    </tr>\n",
       "    <tr>\n",
       "      <th>room_type_Private room</th>\n",
       "      <td>0.271</td>\n",
       "    </tr>\n",
       "    <tr>\n",
       "      <th>minimum_nights</th>\n",
       "      <td>0.260</td>\n",
       "    </tr>\n",
       "    <tr>\n",
       "      <th>availability_365</th>\n",
       "      <td>0.251</td>\n",
       "    </tr>\n",
       "    <tr>\n",
       "      <th>Month</th>\n",
       "      <td>0.101</td>\n",
       "    </tr>\n",
       "    <tr>\n",
       "      <th>Year</th>\n",
       "      <td>0.098</td>\n",
       "    </tr>\n",
       "    <tr>\n",
       "      <th>room_type_Shared room</th>\n",
       "      <td>0.086</td>\n",
       "    </tr>\n",
       "    <tr>\n",
       "      <th>reviews_per_month</th>\n",
       "      <td>0.074</td>\n",
       "    </tr>\n",
       "    <tr>\n",
       "      <th>number_of_reviews</th>\n",
       "      <td>0.061</td>\n",
       "    </tr>\n",
       "    <tr>\n",
       "      <th>neighbourhood_group_West Region</th>\n",
       "      <td>0.022</td>\n",
       "    </tr>\n",
       "    <tr>\n",
       "      <th>neighbourhood_group_East Region</th>\n",
       "      <td>0.018</td>\n",
       "    </tr>\n",
       "    <tr>\n",
       "      <th>neighbourhood_group_North-East Region</th>\n",
       "      <td>0.016</td>\n",
       "    </tr>\n",
       "    <tr>\n",
       "      <th>neighbourhood_group_North Region</th>\n",
       "      <td>0.012</td>\n",
       "    </tr>\n",
       "  </tbody>\n",
       "</table>\n",
       "</div>"
      ],
      "text/plain": [
       "                                       Importance\n",
       "host_id                                     0.754\n",
       "calculated_host_listings_count              0.659\n",
       "longitude                                   0.395\n",
       "latitude                                    0.356\n",
       "room_type_Private room                      0.271\n",
       "minimum_nights                              0.260\n",
       "availability_365                            0.251\n",
       "Month                                       0.101\n",
       "Year                                        0.098\n",
       "room_type_Shared room                       0.086\n",
       "reviews_per_month                           0.074\n",
       "number_of_reviews                           0.061\n",
       "neighbourhood_group_West Region             0.022\n",
       "neighbourhood_group_East Region             0.018\n",
       "neighbourhood_group_North-East Region       0.016\n",
       "neighbourhood_group_North Region            0.012"
      ]
     },
     "execution_count": 51,
     "metadata": {},
     "output_type": "execute_result"
    }
   ],
   "source": [
    "from sklearn.feature_selection import mutual_info_classif\n",
    "mutual_info_classif(x,y)\n",
    "imp=pd.DataFrame(mutual_info_classif(x,y),index=x.columns)\n",
    "imp\n",
    "imp.columns=['Importance']\n",
    "imp.sort_values(by='Importance',ascending=False)"
   ]
  },
  {
   "cell_type": "code",
   "execution_count": 78,
   "id": "a6409bc6",
   "metadata": {},
   "outputs": [
    {
     "data": {
      "text/html": [
       "<div>\n",
       "<style scoped>\n",
       "    .dataframe tbody tr th:only-of-type {\n",
       "        vertical-align: middle;\n",
       "    }\n",
       "\n",
       "    .dataframe tbody tr th {\n",
       "        vertical-align: top;\n",
       "    }\n",
       "\n",
       "    .dataframe thead th {\n",
       "        text-align: right;\n",
       "    }\n",
       "</style>\n",
       "<table border=\"1\" class=\"dataframe\">\n",
       "  <thead>\n",
       "    <tr style=\"text-align: right;\">\n",
       "      <th></th>\n",
       "      <th>Importance</th>\n",
       "    </tr>\n",
       "  </thead>\n",
       "  <tbody>\n",
       "    <tr>\n",
       "      <th>host_id</th>\n",
       "      <td>0.754</td>\n",
       "    </tr>\n",
       "    <tr>\n",
       "      <th>calculated_host_listings_count</th>\n",
       "      <td>0.659</td>\n",
       "    </tr>\n",
       "    <tr>\n",
       "      <th>longitude</th>\n",
       "      <td>0.395</td>\n",
       "    </tr>\n",
       "    <tr>\n",
       "      <th>latitude</th>\n",
       "      <td>0.356</td>\n",
       "    </tr>\n",
       "    <tr>\n",
       "      <th>room_type_Private room</th>\n",
       "      <td>0.271</td>\n",
       "    </tr>\n",
       "    <tr>\n",
       "      <th>minimum_nights</th>\n",
       "      <td>0.260</td>\n",
       "    </tr>\n",
       "    <tr>\n",
       "      <th>availability_365</th>\n",
       "      <td>0.251</td>\n",
       "    </tr>\n",
       "    <tr>\n",
       "      <th>Month</th>\n",
       "      <td>0.101</td>\n",
       "    </tr>\n",
       "    <tr>\n",
       "      <th>Year</th>\n",
       "      <td>0.098</td>\n",
       "    </tr>\n",
       "  </tbody>\n",
       "</table>\n",
       "</div>"
      ],
      "text/plain": [
       "                                Importance\n",
       "host_id                              0.754\n",
       "calculated_host_listings_count       0.659\n",
       "longitude                            0.395\n",
       "latitude                             0.356\n",
       "room_type_Private room               0.271\n",
       "minimum_nights                       0.260\n",
       "availability_365                     0.251\n",
       "Month                                0.101\n",
       "Year                                 0.098"
      ]
     },
     "execution_count": 78,
     "metadata": {},
     "output_type": "execute_result"
    }
   ],
   "source": [
    "imp[imp['Importance']>=0.09].sort_values(by='Importance',ascending=False)"
   ]
  },
  {
   "cell_type": "code",
   "execution_count": 100,
   "id": "54fc1cec",
   "metadata": {},
   "outputs": [],
   "source": [
    "#creating a new dataset from the important ones\n",
    "df2=df[['price','host_id','calculated_host_listings_count','longitude','latitude','room_type_Private room',\n",
    "        'minimum_nights','availability_365','Year']]"
   ]
  },
  {
   "cell_type": "code",
   "execution_count": 101,
   "id": "aa480cd2",
   "metadata": {},
   "outputs": [
    {
     "data": {
      "text/html": [
       "<div>\n",
       "<style scoped>\n",
       "    .dataframe tbody tr th:only-of-type {\n",
       "        vertical-align: middle;\n",
       "    }\n",
       "\n",
       "    .dataframe tbody tr th {\n",
       "        vertical-align: top;\n",
       "    }\n",
       "\n",
       "    .dataframe thead th {\n",
       "        text-align: right;\n",
       "    }\n",
       "</style>\n",
       "<table border=\"1\" class=\"dataframe\">\n",
       "  <thead>\n",
       "    <tr style=\"text-align: right;\">\n",
       "      <th></th>\n",
       "      <th>price</th>\n",
       "      <th>host_id</th>\n",
       "      <th>calculated_host_listings_count</th>\n",
       "      <th>longitude</th>\n",
       "      <th>latitude</th>\n",
       "      <th>room_type_Private room</th>\n",
       "      <th>minimum_nights</th>\n",
       "      <th>availability_365</th>\n",
       "      <th>Year</th>\n",
       "    </tr>\n",
       "  </thead>\n",
       "  <tbody>\n",
       "    <tr>\n",
       "      <th>0</th>\n",
       "      <td>83</td>\n",
       "      <td>266763</td>\n",
       "      <td>2</td>\n",
       "      <td>103.796</td>\n",
       "      <td>1.443</td>\n",
       "      <td>1</td>\n",
       "      <td>180</td>\n",
       "      <td>365</td>\n",
       "      <td>2013</td>\n",
       "    </tr>\n",
       "    <tr>\n",
       "      <th>1</th>\n",
       "      <td>81</td>\n",
       "      <td>227796</td>\n",
       "      <td>1</td>\n",
       "      <td>103.785</td>\n",
       "      <td>1.332</td>\n",
       "      <td>1</td>\n",
       "      <td>90</td>\n",
       "      <td>365</td>\n",
       "      <td>2014</td>\n",
       "    </tr>\n",
       "    <tr>\n",
       "      <th>2</th>\n",
       "      <td>69</td>\n",
       "      <td>266763</td>\n",
       "      <td>2</td>\n",
       "      <td>103.797</td>\n",
       "      <td>1.442</td>\n",
       "      <td>1</td>\n",
       "      <td>6</td>\n",
       "      <td>365</td>\n",
       "      <td>2015</td>\n",
       "    </tr>\n",
       "    <tr>\n",
       "      <th>3</th>\n",
       "      <td>206</td>\n",
       "      <td>367042</td>\n",
       "      <td>9</td>\n",
       "      <td>103.957</td>\n",
       "      <td>1.345</td>\n",
       "      <td>1</td>\n",
       "      <td>1</td>\n",
       "      <td>353</td>\n",
       "      <td>2019</td>\n",
       "    </tr>\n",
       "    <tr>\n",
       "      <th>4</th>\n",
       "      <td>94</td>\n",
       "      <td>367042</td>\n",
       "      <td>9</td>\n",
       "      <td>103.960</td>\n",
       "      <td>1.346</td>\n",
       "      <td>1</td>\n",
       "      <td>1</td>\n",
       "      <td>355</td>\n",
       "      <td>2019</td>\n",
       "    </tr>\n",
       "    <tr>\n",
       "      <th>...</th>\n",
       "      <td>...</td>\n",
       "      <td>...</td>\n",
       "      <td>...</td>\n",
       "      <td>...</td>\n",
       "      <td>...</td>\n",
       "      <td>...</td>\n",
       "      <td>...</td>\n",
       "      <td>...</td>\n",
       "      <td>...</td>\n",
       "    </tr>\n",
       "    <tr>\n",
       "      <th>7902</th>\n",
       "      <td>100</td>\n",
       "      <td>278109833</td>\n",
       "      <td>31</td>\n",
       "      <td>103.788</td>\n",
       "      <td>1.280</td>\n",
       "      <td>0</td>\n",
       "      <td>3</td>\n",
       "      <td>61</td>\n",
       "      <td>0</td>\n",
       "    </tr>\n",
       "    <tr>\n",
       "      <th>7903</th>\n",
       "      <td>400</td>\n",
       "      <td>238891646</td>\n",
       "      <td>34</td>\n",
       "      <td>103.826</td>\n",
       "      <td>1.293</td>\n",
       "      <td>0</td>\n",
       "      <td>6</td>\n",
       "      <td>365</td>\n",
       "      <td>0</td>\n",
       "    </tr>\n",
       "    <tr>\n",
       "      <th>7904</th>\n",
       "      <td>58</td>\n",
       "      <td>281448565</td>\n",
       "      <td>3</td>\n",
       "      <td>103.860</td>\n",
       "      <td>1.313</td>\n",
       "      <td>1</td>\n",
       "      <td>30</td>\n",
       "      <td>173</td>\n",
       "      <td>0</td>\n",
       "    </tr>\n",
       "    <tr>\n",
       "      <th>7905</th>\n",
       "      <td>56</td>\n",
       "      <td>243835202</td>\n",
       "      <td>2</td>\n",
       "      <td>103.838</td>\n",
       "      <td>1.295</td>\n",
       "      <td>1</td>\n",
       "      <td>14</td>\n",
       "      <td>30</td>\n",
       "      <td>0</td>\n",
       "    </tr>\n",
       "    <tr>\n",
       "      <th>7906</th>\n",
       "      <td>65</td>\n",
       "      <td>28788520</td>\n",
       "      <td>7</td>\n",
       "      <td>103.833</td>\n",
       "      <td>1.297</td>\n",
       "      <td>1</td>\n",
       "      <td>90</td>\n",
       "      <td>365</td>\n",
       "      <td>0</td>\n",
       "    </tr>\n",
       "  </tbody>\n",
       "</table>\n",
       "<p>7907 rows × 9 columns</p>\n",
       "</div>"
      ],
      "text/plain": [
       "      price    host_id  calculated_host_listings_count  longitude  latitude  \\\n",
       "0        83     266763                               2    103.796     1.443   \n",
       "1        81     227796                               1    103.785     1.332   \n",
       "2        69     266763                               2    103.797     1.442   \n",
       "3       206     367042                               9    103.957     1.345   \n",
       "4        94     367042                               9    103.960     1.346   \n",
       "...     ...        ...                             ...        ...       ...   \n",
       "7902    100  278109833                              31    103.788     1.280   \n",
       "7903    400  238891646                              34    103.826     1.293   \n",
       "7904     58  281448565                               3    103.860     1.313   \n",
       "7905     56  243835202                               2    103.838     1.295   \n",
       "7906     65   28788520                               7    103.833     1.297   \n",
       "\n",
       "      room_type_Private room  minimum_nights  availability_365  Year  \n",
       "0                          1             180               365  2013  \n",
       "1                          1              90               365  2014  \n",
       "2                          1               6               365  2015  \n",
       "3                          1               1               353  2019  \n",
       "4                          1               1               355  2019  \n",
       "...                      ...             ...               ...   ...  \n",
       "7902                       0               3                61     0  \n",
       "7903                       0               6               365     0  \n",
       "7904                       1              30               173     0  \n",
       "7905                       1              14                30     0  \n",
       "7906                       1              90               365     0  \n",
       "\n",
       "[7907 rows x 9 columns]"
      ]
     },
     "execution_count": 101,
     "metadata": {},
     "output_type": "execute_result"
    }
   ],
   "source": [
    "df2"
   ]
  },
  {
   "cell_type": "code",
   "execution_count": 55,
   "id": "68f43878",
   "metadata": {},
   "outputs": [],
   "source": [
    "#!pip install streamlit"
   ]
  },
  {
   "cell_type": "code",
   "execution_count": 56,
   "id": "24327c80",
   "metadata": {},
   "outputs": [],
   "source": [
    "#!streamlit hello"
   ]
  },
  {
   "cell_type": "code",
   "execution_count": 57,
   "id": "612248d9",
   "metadata": {},
   "outputs": [
    {
     "data": {
      "text/plain": [
       "Index(['host_id', 'latitude', 'longitude', 'minimum_nights',\n",
       "       'number_of_reviews', 'reviews_per_month',\n",
       "       'calculated_host_listings_count', 'availability_365', 'Year',\n",
       "       'neighbourhood_group_East Region', 'neighbourhood_group_North Region',\n",
       "       'neighbourhood_group_North-East Region',\n",
       "       'neighbourhood_group_West Region', 'room_type_Private room',\n",
       "       'room_type_Shared room', 'Month'],\n",
       "      dtype='object')"
      ]
     },
     "execution_count": 57,
     "metadata": {},
     "output_type": "execute_result"
    }
   ],
   "source": [
    "x.columns"
   ]
  },
  {
   "cell_type": "code",
   "execution_count": 58,
   "id": "6a78ca5e",
   "metadata": {},
   "outputs": [
    {
     "data": {
      "text/plain": [
       "(7907, 16)"
      ]
     },
     "execution_count": 58,
     "metadata": {},
     "output_type": "execute_result"
    }
   ],
   "source": [
    "x.shape"
   ]
  },
  {
   "cell_type": "code",
   "execution_count": 59,
   "id": "b84113d3",
   "metadata": {},
   "outputs": [],
   "source": [
    "#import important libraries for training, preprocessing and evaluation\n",
    "from sklearn.model_selection import train_test_split\n",
    "\n",
    "from sklearn.preprocessing import StandardScaler"
   ]
  },
  {
   "cell_type": "code",
   "execution_count": 60,
   "id": "fa7e27d7",
   "metadata": {},
   "outputs": [],
   "source": [
    "scaler=StandardScaler()     #to prepare the scaler"
   ]
  },
  {
   "cell_type": "code",
   "execution_count": 105,
   "id": "ce2ead18",
   "metadata": {},
   "outputs": [
    {
     "data": {
      "text/html": [
       "<div>\n",
       "<style scoped>\n",
       "    .dataframe tbody tr th:only-of-type {\n",
       "        vertical-align: middle;\n",
       "    }\n",
       "\n",
       "    .dataframe tbody tr th {\n",
       "        vertical-align: top;\n",
       "    }\n",
       "\n",
       "    .dataframe thead th {\n",
       "        text-align: right;\n",
       "    }\n",
       "</style>\n",
       "<table border=\"1\" class=\"dataframe\">\n",
       "  <thead>\n",
       "    <tr style=\"text-align: right;\">\n",
       "      <th></th>\n",
       "      <th>host_id</th>\n",
       "      <th>latitude</th>\n",
       "      <th>longitude</th>\n",
       "      <th>minimum_nights</th>\n",
       "      <th>number_of_reviews</th>\n",
       "      <th>reviews_per_month</th>\n",
       "      <th>calculated_host_listings_count</th>\n",
       "      <th>availability_365</th>\n",
       "      <th>Year</th>\n",
       "      <th>neighbourhood_group_East Region</th>\n",
       "      <th>neighbourhood_group_North Region</th>\n",
       "      <th>neighbourhood_group_North-East Region</th>\n",
       "      <th>neighbourhood_group_West Region</th>\n",
       "      <th>room_type_Private room</th>\n",
       "      <th>room_type_Shared room</th>\n",
       "      <th>Month</th>\n",
       "    </tr>\n",
       "  </thead>\n",
       "  <tbody>\n",
       "    <tr>\n",
       "      <th>0</th>\n",
       "      <td>266763</td>\n",
       "      <td>1.443</td>\n",
       "      <td>103.796</td>\n",
       "      <td>180</td>\n",
       "      <td>1</td>\n",
       "      <td>0.010</td>\n",
       "      <td>2</td>\n",
       "      <td>365</td>\n",
       "      <td>2013</td>\n",
       "      <td>0</td>\n",
       "      <td>1</td>\n",
       "      <td>0</td>\n",
       "      <td>0</td>\n",
       "      <td>1</td>\n",
       "      <td>0</td>\n",
       "      <td>10</td>\n",
       "    </tr>\n",
       "    <tr>\n",
       "      <th>1</th>\n",
       "      <td>227796</td>\n",
       "      <td>1.332</td>\n",
       "      <td>103.785</td>\n",
       "      <td>90</td>\n",
       "      <td>18</td>\n",
       "      <td>0.280</td>\n",
       "      <td>1</td>\n",
       "      <td>365</td>\n",
       "      <td>2014</td>\n",
       "      <td>0</td>\n",
       "      <td>0</td>\n",
       "      <td>0</td>\n",
       "      <td>0</td>\n",
       "      <td>1</td>\n",
       "      <td>0</td>\n",
       "      <td>12</td>\n",
       "    </tr>\n",
       "    <tr>\n",
       "      <th>2</th>\n",
       "      <td>266763</td>\n",
       "      <td>1.442</td>\n",
       "      <td>103.797</td>\n",
       "      <td>6</td>\n",
       "      <td>20</td>\n",
       "      <td>0.200</td>\n",
       "      <td>2</td>\n",
       "      <td>365</td>\n",
       "      <td>2015</td>\n",
       "      <td>0</td>\n",
       "      <td>1</td>\n",
       "      <td>0</td>\n",
       "      <td>0</td>\n",
       "      <td>1</td>\n",
       "      <td>0</td>\n",
       "      <td>10</td>\n",
       "    </tr>\n",
       "    <tr>\n",
       "      <th>3</th>\n",
       "      <td>367042</td>\n",
       "      <td>1.345</td>\n",
       "      <td>103.957</td>\n",
       "      <td>1</td>\n",
       "      <td>14</td>\n",
       "      <td>0.150</td>\n",
       "      <td>9</td>\n",
       "      <td>353</td>\n",
       "      <td>2019</td>\n",
       "      <td>1</td>\n",
       "      <td>0</td>\n",
       "      <td>0</td>\n",
       "      <td>0</td>\n",
       "      <td>1</td>\n",
       "      <td>0</td>\n",
       "      <td>8</td>\n",
       "    </tr>\n",
       "    <tr>\n",
       "      <th>4</th>\n",
       "      <td>367042</td>\n",
       "      <td>1.346</td>\n",
       "      <td>103.960</td>\n",
       "      <td>1</td>\n",
       "      <td>22</td>\n",
       "      <td>0.220</td>\n",
       "      <td>9</td>\n",
       "      <td>355</td>\n",
       "      <td>2019</td>\n",
       "      <td>1</td>\n",
       "      <td>0</td>\n",
       "      <td>0</td>\n",
       "      <td>0</td>\n",
       "      <td>1</td>\n",
       "      <td>0</td>\n",
       "      <td>7</td>\n",
       "    </tr>\n",
       "    <tr>\n",
       "      <th>...</th>\n",
       "      <td>...</td>\n",
       "      <td>...</td>\n",
       "      <td>...</td>\n",
       "      <td>...</td>\n",
       "      <td>...</td>\n",
       "      <td>...</td>\n",
       "      <td>...</td>\n",
       "      <td>...</td>\n",
       "      <td>...</td>\n",
       "      <td>...</td>\n",
       "      <td>...</td>\n",
       "      <td>...</td>\n",
       "      <td>...</td>\n",
       "      <td>...</td>\n",
       "      <td>...</td>\n",
       "      <td>...</td>\n",
       "    </tr>\n",
       "    <tr>\n",
       "      <th>7902</th>\n",
       "      <td>278109833</td>\n",
       "      <td>1.280</td>\n",
       "      <td>103.788</td>\n",
       "      <td>3</td>\n",
       "      <td>0</td>\n",
       "      <td>0.000</td>\n",
       "      <td>31</td>\n",
       "      <td>61</td>\n",
       "      <td>0</td>\n",
       "      <td>0</td>\n",
       "      <td>0</td>\n",
       "      <td>0</td>\n",
       "      <td>0</td>\n",
       "      <td>0</td>\n",
       "      <td>0</td>\n",
       "      <td>1</td>\n",
       "    </tr>\n",
       "    <tr>\n",
       "      <th>7903</th>\n",
       "      <td>238891646</td>\n",
       "      <td>1.293</td>\n",
       "      <td>103.826</td>\n",
       "      <td>6</td>\n",
       "      <td>0</td>\n",
       "      <td>0.000</td>\n",
       "      <td>34</td>\n",
       "      <td>365</td>\n",
       "      <td>0</td>\n",
       "      <td>0</td>\n",
       "      <td>0</td>\n",
       "      <td>0</td>\n",
       "      <td>0</td>\n",
       "      <td>0</td>\n",
       "      <td>0</td>\n",
       "      <td>1</td>\n",
       "    </tr>\n",
       "    <tr>\n",
       "      <th>7904</th>\n",
       "      <td>281448565</td>\n",
       "      <td>1.313</td>\n",
       "      <td>103.860</td>\n",
       "      <td>30</td>\n",
       "      <td>0</td>\n",
       "      <td>0.000</td>\n",
       "      <td>3</td>\n",
       "      <td>173</td>\n",
       "      <td>0</td>\n",
       "      <td>0</td>\n",
       "      <td>0</td>\n",
       "      <td>0</td>\n",
       "      <td>0</td>\n",
       "      <td>1</td>\n",
       "      <td>0</td>\n",
       "      <td>1</td>\n",
       "    </tr>\n",
       "    <tr>\n",
       "      <th>7905</th>\n",
       "      <td>243835202</td>\n",
       "      <td>1.295</td>\n",
       "      <td>103.838</td>\n",
       "      <td>14</td>\n",
       "      <td>0</td>\n",
       "      <td>0.000</td>\n",
       "      <td>2</td>\n",
       "      <td>30</td>\n",
       "      <td>0</td>\n",
       "      <td>0</td>\n",
       "      <td>0</td>\n",
       "      <td>0</td>\n",
       "      <td>0</td>\n",
       "      <td>1</td>\n",
       "      <td>0</td>\n",
       "      <td>1</td>\n",
       "    </tr>\n",
       "    <tr>\n",
       "      <th>7906</th>\n",
       "      <td>28788520</td>\n",
       "      <td>1.297</td>\n",
       "      <td>103.833</td>\n",
       "      <td>90</td>\n",
       "      <td>0</td>\n",
       "      <td>0.000</td>\n",
       "      <td>7</td>\n",
       "      <td>365</td>\n",
       "      <td>0</td>\n",
       "      <td>0</td>\n",
       "      <td>0</td>\n",
       "      <td>0</td>\n",
       "      <td>0</td>\n",
       "      <td>1</td>\n",
       "      <td>0</td>\n",
       "      <td>1</td>\n",
       "    </tr>\n",
       "  </tbody>\n",
       "</table>\n",
       "<p>7907 rows × 16 columns</p>\n",
       "</div>"
      ],
      "text/plain": [
       "        host_id  latitude  longitude  minimum_nights  number_of_reviews  \\\n",
       "0        266763     1.443    103.796             180                  1   \n",
       "1        227796     1.332    103.785              90                 18   \n",
       "2        266763     1.442    103.797               6                 20   \n",
       "3        367042     1.345    103.957               1                 14   \n",
       "4        367042     1.346    103.960               1                 22   \n",
       "...         ...       ...        ...             ...                ...   \n",
       "7902  278109833     1.280    103.788               3                  0   \n",
       "7903  238891646     1.293    103.826               6                  0   \n",
       "7904  281448565     1.313    103.860              30                  0   \n",
       "7905  243835202     1.295    103.838              14                  0   \n",
       "7906   28788520     1.297    103.833              90                  0   \n",
       "\n",
       "      reviews_per_month  calculated_host_listings_count  availability_365  \\\n",
       "0                 0.010                               2               365   \n",
       "1                 0.280                               1               365   \n",
       "2                 0.200                               2               365   \n",
       "3                 0.150                               9               353   \n",
       "4                 0.220                               9               355   \n",
       "...                 ...                             ...               ...   \n",
       "7902              0.000                              31                61   \n",
       "7903              0.000                              34               365   \n",
       "7904              0.000                               3               173   \n",
       "7905              0.000                               2                30   \n",
       "7906              0.000                               7               365   \n",
       "\n",
       "      Year  neighbourhood_group_East Region  neighbourhood_group_North Region  \\\n",
       "0     2013                                0                                 1   \n",
       "1     2014                                0                                 0   \n",
       "2     2015                                0                                 1   \n",
       "3     2019                                1                                 0   \n",
       "4     2019                                1                                 0   \n",
       "...    ...                              ...                               ...   \n",
       "7902     0                                0                                 0   \n",
       "7903     0                                0                                 0   \n",
       "7904     0                                0                                 0   \n",
       "7905     0                                0                                 0   \n",
       "7906     0                                0                                 0   \n",
       "\n",
       "      neighbourhood_group_North-East Region  neighbourhood_group_West Region  \\\n",
       "0                                         0                                0   \n",
       "1                                         0                                0   \n",
       "2                                         0                                0   \n",
       "3                                         0                                0   \n",
       "4                                         0                                0   \n",
       "...                                     ...                              ...   \n",
       "7902                                      0                                0   \n",
       "7903                                      0                                0   \n",
       "7904                                      0                                0   \n",
       "7905                                      0                                0   \n",
       "7906                                      0                                0   \n",
       "\n",
       "      room_type_Private room  room_type_Shared room  Month  \n",
       "0                          1                      0     10  \n",
       "1                          1                      0     12  \n",
       "2                          1                      0     10  \n",
       "3                          1                      0      8  \n",
       "4                          1                      0      7  \n",
       "...                      ...                    ...    ...  \n",
       "7902                       0                      0      1  \n",
       "7903                       0                      0      1  \n",
       "7904                       1                      0      1  \n",
       "7905                       1                      0      1  \n",
       "7906                       1                      0      1  \n",
       "\n",
       "[7907 rows x 16 columns]"
      ]
     },
     "execution_count": 105,
     "metadata": {},
     "output_type": "execute_result"
    }
   ],
   "source": [
    "x"
   ]
  },
  {
   "cell_type": "code",
   "execution_count": 65,
   "id": "e3484bdb",
   "metadata": {},
   "outputs": [],
   "source": [
    "#doing the data split\n",
    "X_train, X_test, y_train, y_test=train_test_split(x,y,test_size=0.2,random_state=123)"
   ]
  },
  {
   "cell_type": "code",
   "execution_count": 106,
   "id": "87408ff6",
   "metadata": {},
   "outputs": [],
   "source": [
    "scaler.fit(X_train)\n",
    "X_train=scaler.transform(X_train)\n",
    "X_test=scaler.transform(X_test)"
   ]
  },
  {
   "cell_type": "code",
   "execution_count": 62,
   "id": "c3d1778b",
   "metadata": {},
   "outputs": [],
   "source": [
    "#scaler.fit_transform(x)   #alternative form of doing it. Both scaling and transforming in one code"
   ]
  },
  {
   "cell_type": "markdown",
   "id": "7c3821d3",
   "metadata": {},
   "source": [
    "# Model Evaluation"
   ]
  },
  {
   "cell_type": "markdown",
   "id": "10c5fad1",
   "metadata": {},
   "source": [
    "# Linear Regression"
   ]
  },
  {
   "cell_type": "code",
   "execution_count": 66,
   "id": "8f611078",
   "metadata": {},
   "outputs": [],
   "source": [
    "#important libraries for evaluation\n",
    "from sklearn.metrics import mean_squared_error\n",
    "from sklearn.metrics import mean_absolute_error\n",
    "from sklearn.metrics import r2_score"
   ]
  },
  {
   "cell_type": "code",
   "execution_count": 107,
   "id": "2b5cf7a2",
   "metadata": {},
   "outputs": [
    {
     "data": {
      "text/plain": [
       "LinearRegression()"
      ]
     },
     "execution_count": 107,
     "metadata": {},
     "output_type": "execute_result"
    }
   ],
   "source": [
    "#1.Import the estimator object\n",
    "from sklearn.linear_model import LinearRegression\n",
    "\n",
    "#2.create an instance of the estimator\n",
    "linear_regression = LinearRegression()\n",
    "\n",
    "#3. Use the training data to train the estimator\n",
    "linear_regression.fit(X_train, y_train)"
   ]
  },
  {
   "cell_type": "code",
   "execution_count": 108,
   "id": "2bbec136",
   "metadata": {},
   "outputs": [
    {
     "name": "stdout",
     "output_type": "stream",
     "text": [
      "Train r2 score:  0.39077542796611253\n",
      "Test r2 score: 0.3578525012206475\n",
      "train_mae: 57.651867096919744\n",
      "test_mae: 56.745368480369486\n",
      "train_mse1: 6075.141335491114\n",
      "test_mse1: 6026.676603110119\n"
     ]
    }
   ],
   "source": [
    "#Prediction and Model Evaluation(R-squared,MSE,MAE,RMSE)\n",
    "y_train_pred1=linear_regression.predict(X_train)\n",
    "y_pred1=linear_regression.predict(X_test)\n",
    "\n",
    "print('Train r2 score: ', r2_score(y_train,y_train_pred1))\n",
    "print('Test r2 score:', r2_score(y_test, y_pred1))\n",
    "\n",
    "print('train_mae:', mean_absolute_error(y_train,y_train_pred1))\n",
    "print('test_mae:', mean_absolute_error(y_test,y_pred1))\n",
    "\n",
    "print('train_mse1:', mean_squared_error( y_train,y_train_pred1))\n",
    "print('test_mse1:', mean_squared_error(y_test,y_pred1))"
   ]
  },
  {
   "cell_type": "code",
   "execution_count": 109,
   "id": "16b918a3",
   "metadata": {},
   "outputs": [
    {
     "data": {
      "text/html": [
       "<div>\n",
       "<style scoped>\n",
       "    .dataframe tbody tr th:only-of-type {\n",
       "        vertical-align: middle;\n",
       "    }\n",
       "\n",
       "    .dataframe tbody tr th {\n",
       "        vertical-align: top;\n",
       "    }\n",
       "\n",
       "    .dataframe thead th {\n",
       "        text-align: right;\n",
       "    }\n",
       "</style>\n",
       "<table border=\"1\" class=\"dataframe\">\n",
       "  <thead>\n",
       "    <tr style=\"text-align: right;\">\n",
       "      <th></th>\n",
       "      <th>OLD</th>\n",
       "      <th>NEW</th>\n",
       "    </tr>\n",
       "  </thead>\n",
       "  <tbody>\n",
       "    <tr>\n",
       "      <th>1234</th>\n",
       "      <td>104</td>\n",
       "      <td>77.794</td>\n",
       "    </tr>\n",
       "    <tr>\n",
       "      <th>4480</th>\n",
       "      <td>260</td>\n",
       "      <td>226.136</td>\n",
       "    </tr>\n",
       "    <tr>\n",
       "      <th>239</th>\n",
       "      <td>69</td>\n",
       "      <td>58.667</td>\n",
       "    </tr>\n",
       "    <tr>\n",
       "      <th>2238</th>\n",
       "      <td>32</td>\n",
       "      <td>59.978</td>\n",
       "    </tr>\n",
       "    <tr>\n",
       "      <th>611</th>\n",
       "      <td>60</td>\n",
       "      <td>64.264</td>\n",
       "    </tr>\n",
       "    <tr>\n",
       "      <th>...</th>\n",
       "      <td>...</td>\n",
       "      <td>...</td>\n",
       "    </tr>\n",
       "    <tr>\n",
       "      <th>5285</th>\n",
       "      <td>156</td>\n",
       "      <td>173.405</td>\n",
       "    </tr>\n",
       "    <tr>\n",
       "      <th>2742</th>\n",
       "      <td>249</td>\n",
       "      <td>199.741</td>\n",
       "    </tr>\n",
       "    <tr>\n",
       "      <th>774</th>\n",
       "      <td>51</td>\n",
       "      <td>103.362</td>\n",
       "    </tr>\n",
       "    <tr>\n",
       "      <th>6696</th>\n",
       "      <td>85</td>\n",
       "      <td>128.528</td>\n",
       "    </tr>\n",
       "    <tr>\n",
       "      <th>380</th>\n",
       "      <td>69</td>\n",
       "      <td>85.268</td>\n",
       "    </tr>\n",
       "  </tbody>\n",
       "</table>\n",
       "<p>1582 rows × 2 columns</p>\n",
       "</div>"
      ],
      "text/plain": [
       "      OLD     NEW\n",
       "1234  104  77.794\n",
       "4480  260 226.136\n",
       "239    69  58.667\n",
       "2238   32  59.978\n",
       "611    60  64.264\n",
       "...   ...     ...\n",
       "5285  156 173.405\n",
       "2742  249 199.741\n",
       "774    51 103.362\n",
       "6696   85 128.528\n",
       "380    69  85.268\n",
       "\n",
       "[1582 rows x 2 columns]"
      ]
     },
     "execution_count": 109,
     "metadata": {},
     "output_type": "execute_result"
    }
   ],
   "source": [
    "d=pd.DataFrame({'OLD':y_test, 'NEW':y_pred1})\n",
    "d"
   ]
  },
  {
   "cell_type": "code",
   "execution_count": 70,
   "id": "5cb7465d",
   "metadata": {},
   "outputs": [
    {
     "data": {
      "image/png": "[encoded data removed]",
      "text/plain": [
       "<Figure size 576x360 with 1 Axes>"
      ]
     },
     "metadata": {},
     "output_type": "display_data"
    }
   ],
   "source": [
    "plt.subplots(figsize=(8,5))\n",
    "plt.scatter(y_pred1,y_test)\n",
    "plt.plot(np.unique(y_test),np.poly1d(np.polyfit(y_test,y_pred1, 1))(np.unique(y_test)),c='r')\n",
    "plt.title('Predicted vs Actual')\n",
    "plt.xlabel('Predicted')\n",
    "plt.ylabel('Actual')\n",
    "plt.grid()\n",
    "plt.show()"
   ]
  },
  {
   "cell_type": "code",
   "execution_count": 98,
   "id": "a7fdb14f",
   "metadata": {},
   "outputs": [
    {
     "data": {
      "text/plain": [
       "KNeighborsRegressor()"
      ]
     },
     "execution_count": 98,
     "metadata": {},
     "output_type": "execute_result"
    }
   ],
   "source": [
    "#1. Import the estimator object(model)\n",
    "from sklearn.neighbors import KNeighborsRegressor\n",
    "2#create an instance for thee estimator\n",
    "knn=KNeighborsRegressor()\n",
    "#3. Use the training data to train the estimator\n",
    "knn.fit(X_train, y_train)"
   ]
  },
  {
   "cell_type": "code",
   "execution_count": 110,
   "id": "853c909a",
   "metadata": {},
   "outputs": [
    {
     "name": "stdout",
     "output_type": "stream",
     "text": [
      "Train r2 score:  0.67578179021065\n",
      "Test r2 score: 0.4354168402361034\n",
      "train_mae: 37.61849802371542\n",
      "test_mae: 48.48217446270544\n",
      "train_mse1: 3233.0794561264825\n",
      "test_mse1: 5298.720505689002\n"
     ]
    }
   ],
   "source": [
    "#prediction and model evaluation using kneighbor\n",
    "y_train_pred2=knn.predict(X_train)\n",
    "y_pred2=knn.predict(X_test)\n",
    "\n",
    "print('Train r2 score: ', r2_score(y_train,y_train_pred2))\n",
    "print('Test r2 score:', r2_score(y_test, y_pred2))\n",
    "\n",
    "print('train_mae:', mean_absolute_error(y_train,y_train_pred2))\n",
    "print('test_mae:', mean_absolute_error(y_test,y_pred2))\n",
    "\n",
    "print('train_mse1:', mean_squared_error( y_train,y_train_pred2))\n",
    "print('test_mse1:', mean_squared_error(y_test,y_pred2))\n",
    "\n"
   ]
  },
  {
   "cell_type": "markdown",
   "id": "d13a4bd5",
   "metadata": {},
   "source": [
    "# Decision Tree"
   ]
  },
  {
   "cell_type": "code",
   "execution_count": 111,
   "id": "eb39f306",
   "metadata": {},
   "outputs": [
    {
     "data": {
      "text/plain": [
       "DecisionTreeRegressor()"
      ]
     },
     "execution_count": 111,
     "metadata": {},
     "output_type": "execute_result"
    }
   ],
   "source": [
    "from sklearn.tree import DecisionTreeRegressor\n",
    "dtree=DecisionTreeRegressor()\n",
    "dtree.fit(X_train, y_train)"
   ]
  },
  {
   "cell_type": "code",
   "execution_count": 112,
   "id": "6bf68ea1",
   "metadata": {},
   "outputs": [
    {
     "name": "stdout",
     "output_type": "stream",
     "text": [
      "Train r2 score:  1.0\n",
      "Test r2 score: 0.21038837710675284\n",
      "train_mae: 0.0\n",
      "test_mae: 51.98925410872314\n",
      "train_mse1: 0.0\n",
      "test_mse1: 7410.655499367888\n"
     ]
    }
   ],
   "source": [
    "y_train_pred3=dtree.predict(X_train)\n",
    "y_pred3=dtree.predict(X_test)\n",
    "\n",
    "print('Train r2 score: ', r2_score(y_train,y_train_pred3))\n",
    "print('Test r2 score:', r2_score(y_test, y_pred3))\n",
    "\n",
    "print('train_mae:', mean_absolute_error(y_train,y_train_pred3))\n",
    "print('test_mae:', mean_absolute_error(y_test,y_pred3))\n",
    "\n",
    "print('train_mse1:', mean_squared_error( y_train,y_train_pred3))\n",
    "print('test_mse1:', mean_squared_error(y_test,y_pred3))"
   ]
  },
  {
   "cell_type": "markdown",
   "id": "1a3e2cc7",
   "metadata": {},
   "source": [
    "# D. Random Forest"
   ]
  },
  {
   "cell_type": "code",
   "execution_count": 113,
   "id": "bb8fc930",
   "metadata": {},
   "outputs": [
    {
     "data": {
      "text/plain": [
       "RandomForestRegressor(max_depth=3)"
      ]
     },
     "execution_count": 113,
     "metadata": {},
     "output_type": "execute_result"
    }
   ],
   "source": [
    "from sklearn.ensemble import RandomForestRegressor\n",
    "rf=RandomForestRegressor(max_depth=3)\n",
    "rf.fit(X_train,y_train)"
   ]
  },
  {
   "cell_type": "code",
   "execution_count": 114,
   "id": "c489d873",
   "metadata": {
    "scrolled": true
   },
   "outputs": [
    {
     "name": "stdout",
     "output_type": "stream",
     "text": [
      "Train r2 score:  0.3978809597611682\n",
      "Test r2 score: 0.3624941133105267\n",
      "train_mae: 57.042972556098086\n",
      "test_mae: 56.23532778709491\n",
      "train_mse1: 6004.285510069174\n",
      "test_mse1: 5983.114189434192\n"
     ]
    }
   ],
   "source": [
    "y_train_pred4=rf.predict(X_train)\n",
    "y_pred4=rf.predict(X_test)\n",
    "\n",
    "print('Train r2 score: ', r2_score(y_train,y_train_pred4))\n",
    "print('Test r2 score:', r2_score(y_test,y_pred4))\n",
    "\n",
    "print('train_mae:', mean_absolute_error(y_train,y_train_pred4))\n",
    "print('test_mae:', mean_absolute_error(y_test,y_pred4))\n",
    "\n",
    "print('train_mse1:', mean_squared_error( y_train,y_train_pred4))\n",
    "print('test_mse1:', mean_squared_error(y_test,y_pred4))"
   ]
  },
  {
   "cell_type": "markdown",
   "id": "d544e987",
   "metadata": {},
   "source": [
    "# E. XGBOOST"
   ]
  },
  {
   "cell_type": "code",
   "execution_count": 115,
   "id": "7dcb0ec2",
   "metadata": {},
   "outputs": [
    {
     "data": {
      "text/plain": [
       "XGBRegressor(base_score=0.5, booster='gbtree', colsample_bylevel=1,\n",
       "             colsample_bynode=1, colsample_bytree=1, enable_categorical=False,\n",
       "             gamma=0, gpu_id=-1, importance_type=None,\n",
       "             interaction_constraints='', learning_rate=0.300000012,\n",
       "             max_delta_step=0, max_depth=6, min_child_weight=1, missing=nan,\n",
       "             monotone_constraints='()', n_estimators=100, n_jobs=8,\n",
       "             num_parallel_tree=1, predictor='auto', random_state=0, reg_alpha=0,\n",
       "             reg_lambda=1, scale_pos_weight=1, subsample=1, tree_method='exact',\n",
       "             validate_parameters=1, verbosity=None)"
      ]
     },
     "execution_count": 115,
     "metadata": {},
     "output_type": "execute_result"
    }
   ],
   "source": [
    "from xgboost import XGBRegressor\n",
    "xgb_model1=XGBRegressor()\n",
    "xgb_model1.fit(X_train, y_train, verbose=False)"
   ]
  },
  {
   "cell_type": "code",
   "execution_count": 116,
   "id": "294d3b43",
   "metadata": {},
   "outputs": [
    {
     "name": "stdout",
     "output_type": "stream",
     "text": [
      "Train r2 score:  0.898057285013881\n",
      "Test r2 score: 0.5753746136669636\n",
      "train_mae: 21.862464867175333\n",
      "test_mae: 42.377371064404926\n",
      "train_mse1: 1016.5650403705511\n",
      "test_mse1: 3985.190140527555\n"
     ]
    }
   ],
   "source": [
    "y_train_pred5=xgb_model1.predict(X_train)\n",
    "y_pred5=xgb_model1.predict(X_test)\n",
    "\n",
    "print('Train r2 score: ', r2_score(y_train,y_train_pred5))\n",
    "print('Test r2 score:', r2_score(y_test, y_pred5))\n",
    "\n",
    "print('train_mae:', mean_absolute_error(y_train,y_train_pred5))\n",
    "print('test_mae:', mean_absolute_error(y_test,y_pred5))\n",
    "\n",
    "print('train_mse1:', mean_squared_error( y_train,y_train_pred5))\n",
    "print('test_mse1:', mean_squared_error(y_test,y_pred5))"
   ]
  },
  {
   "cell_type": "markdown",
   "id": "475bc18f",
   "metadata": {},
   "source": [
    "# Optimization"
   ]
  },
  {
   "cell_type": "markdown",
   "id": "2f4e98f2",
   "metadata": {},
   "source": [
    "# Using GridSearchCV For Optimization"
   ]
  },
  {
   "cell_type": "code",
   "execution_count": 88,
   "id": "dc600f9a",
   "metadata": {},
   "outputs": [],
   "source": [
    "from sklearn.model_selection import GridSearchCV\n",
    "import warnings\n",
    "warnings.filterwarnings('ignore')"
   ]
  },
  {
   "cell_type": "code",
   "execution_count": 79,
   "id": "37e320f1",
   "metadata": {},
   "outputs": [
    {
     "data": {
      "text/plain": [
       "dict_keys(['bootstrap', 'ccp_alpha', 'criterion', 'max_depth', 'max_features', 'max_leaf_nodes', 'max_samples', 'min_impurity_decrease', 'min_impurity_split', 'min_samples_leaf', 'min_samples_split', 'min_weight_fraction_leaf', 'n_estimators', 'n_jobs', 'oob_score', 'random_state', 'verbose', 'warm_start'])"
      ]
     },
     "execution_count": 79,
     "metadata": {},
     "output_type": "execute_result"
    }
   ],
   "source": [
    "#checking parameters that can be optimized in models\n",
    "rf.get_params().keys()"
   ]
  },
  {
   "cell_type": "code",
   "execution_count": 80,
   "id": "50548634",
   "metadata": {},
   "outputs": [
    {
     "ename": "KeyboardInterrupt",
     "evalue": "",
     "output_type": "error",
     "traceback": [
      "\u001b[1;31m---------------------------------------------------------------------------\u001b[0m",
      "\u001b[1;31mKeyboardInterrupt\u001b[0m                         Traceback (most recent call last)",
      "\u001b[1;32m<ipython-input-80-7c46b052c1a0>\u001b[0m in \u001b[0;36m<module>\u001b[1;34m\u001b[0m\n\u001b[0;32m      4\u001b[0m \u001b[0mgrid_search\u001b[0m\u001b[1;33m=\u001b[0m\u001b[0mGridSearchCV\u001b[0m\u001b[1;33m(\u001b[0m\u001b[0mrf\u001b[0m\u001b[1;33m,\u001b[0m\u001b[0mparam_grid\u001b[0m\u001b[1;33m,\u001b[0m\u001b[0mcv\u001b[0m\u001b[1;33m=\u001b[0m\u001b[1;36m5\u001b[0m\u001b[1;33m,\u001b[0m\u001b[0mscoring\u001b[0m\u001b[1;33m=\u001b[0m\u001b[1;34m'r2'\u001b[0m\u001b[1;33m,\u001b[0m\u001b[0mreturn_train_score\u001b[0m\u001b[1;33m=\u001b[0m\u001b[1;32mTrue\u001b[0m\u001b[1;33m)\u001b[0m\u001b[1;33m\u001b[0m\u001b[1;33m\u001b[0m\u001b[0m\n\u001b[0;32m      5\u001b[0m \u001b[1;33m\u001b[0m\u001b[0m\n\u001b[1;32m----> 6\u001b[1;33m \u001b[0mgrid_search\u001b[0m\u001b[1;33m=\u001b[0m\u001b[0mgrid_search\u001b[0m\u001b[1;33m.\u001b[0m\u001b[0mfit\u001b[0m\u001b[1;33m(\u001b[0m\u001b[0mX_train\u001b[0m\u001b[1;33m,\u001b[0m\u001b[0my_train\u001b[0m\u001b[1;33m)\u001b[0m\u001b[1;33m\u001b[0m\u001b[1;33m\u001b[0m\u001b[0m\n\u001b[0m",
      "\u001b[1;32m~\\anaconda3\\lib\\site-packages\\sklearn\\utils\\validation.py\u001b[0m in \u001b[0;36minner_f\u001b[1;34m(*args, **kwargs)\u001b[0m\n\u001b[0;32m     61\u001b[0m             \u001b[0mextra_args\u001b[0m \u001b[1;33m=\u001b[0m \u001b[0mlen\u001b[0m\u001b[1;33m(\u001b[0m\u001b[0margs\u001b[0m\u001b[1;33m)\u001b[0m \u001b[1;33m-\u001b[0m \u001b[0mlen\u001b[0m\u001b[1;33m(\u001b[0m\u001b[0mall_args\u001b[0m\u001b[1;33m)\u001b[0m\u001b[1;33m\u001b[0m\u001b[1;33m\u001b[0m\u001b[0m\n\u001b[0;32m     62\u001b[0m             \u001b[1;32mif\u001b[0m \u001b[0mextra_args\u001b[0m \u001b[1;33m<=\u001b[0m \u001b[1;36m0\u001b[0m\u001b[1;33m:\u001b[0m\u001b[1;33m\u001b[0m\u001b[1;33m\u001b[0m\u001b[0m\n\u001b[1;32m---> 63\u001b[1;33m                 \u001b[1;32mreturn\u001b[0m \u001b[0mf\u001b[0m\u001b[1;33m(\u001b[0m\u001b[1;33m*\u001b[0m\u001b[0margs\u001b[0m\u001b[1;33m,\u001b[0m \u001b[1;33m**\u001b[0m\u001b[0mkwargs\u001b[0m\u001b[1;33m)\u001b[0m\u001b[1;33m\u001b[0m\u001b[1;33m\u001b[0m\u001b[0m\n\u001b[0m\u001b[0;32m     64\u001b[0m \u001b[1;33m\u001b[0m\u001b[0m\n\u001b[0;32m     65\u001b[0m             \u001b[1;31m# extra_args > 0\u001b[0m\u001b[1;33m\u001b[0m\u001b[1;33m\u001b[0m\u001b[1;33m\u001b[0m\u001b[0m\n",
      "\u001b[1;32m~\\anaconda3\\lib\\site-packages\\sklearn\\model_selection\\_search.py\u001b[0m in \u001b[0;36mfit\u001b[1;34m(self, X, y, groups, **fit_params)\u001b[0m\n\u001b[0;32m    839\u001b[0m                 \u001b[1;32mreturn\u001b[0m \u001b[0mresults\u001b[0m\u001b[1;33m\u001b[0m\u001b[1;33m\u001b[0m\u001b[0m\n\u001b[0;32m    840\u001b[0m \u001b[1;33m\u001b[0m\u001b[0m\n\u001b[1;32m--> 841\u001b[1;33m             \u001b[0mself\u001b[0m\u001b[1;33m.\u001b[0m\u001b[0m_run_search\u001b[0m\u001b[1;33m(\u001b[0m\u001b[0mevaluate_candidates\u001b[0m\u001b[1;33m)\u001b[0m\u001b[1;33m\u001b[0m\u001b[1;33m\u001b[0m\u001b[0m\n\u001b[0m\u001b[0;32m    842\u001b[0m \u001b[1;33m\u001b[0m\u001b[0m\n\u001b[0;32m    843\u001b[0m             \u001b[1;31m# multimetric is determined here because in the case of a callable\u001b[0m\u001b[1;33m\u001b[0m\u001b[1;33m\u001b[0m\u001b[1;33m\u001b[0m\u001b[0m\n",
      "\u001b[1;32m~\\anaconda3\\lib\\site-packages\\sklearn\\model_selection\\_search.py\u001b[0m in \u001b[0;36m_run_search\u001b[1;34m(self, evaluate_candidates)\u001b[0m\n\u001b[0;32m   1286\u001b[0m     \u001b[1;32mdef\u001b[0m \u001b[0m_run_search\u001b[0m\u001b[1;33m(\u001b[0m\u001b[0mself\u001b[0m\u001b[1;33m,\u001b[0m \u001b[0mevaluate_candidates\u001b[0m\u001b[1;33m)\u001b[0m\u001b[1;33m:\u001b[0m\u001b[1;33m\u001b[0m\u001b[1;33m\u001b[0m\u001b[0m\n\u001b[0;32m   1287\u001b[0m         \u001b[1;34m\"\"\"Search all candidates in param_grid\"\"\"\u001b[0m\u001b[1;33m\u001b[0m\u001b[1;33m\u001b[0m\u001b[0m\n\u001b[1;32m-> 1288\u001b[1;33m         \u001b[0mevaluate_candidates\u001b[0m\u001b[1;33m(\u001b[0m\u001b[0mParameterGrid\u001b[0m\u001b[1;33m(\u001b[0m\u001b[0mself\u001b[0m\u001b[1;33m.\u001b[0m\u001b[0mparam_grid\u001b[0m\u001b[1;33m)\u001b[0m\u001b[1;33m)\u001b[0m\u001b[1;33m\u001b[0m\u001b[1;33m\u001b[0m\u001b[0m\n\u001b[0m\u001b[0;32m   1289\u001b[0m \u001b[1;33m\u001b[0m\u001b[0m\n\u001b[0;32m   1290\u001b[0m \u001b[1;33m\u001b[0m\u001b[0m\n",
      "\u001b[1;32m~\\anaconda3\\lib\\site-packages\\sklearn\\model_selection\\_search.py\u001b[0m in \u001b[0;36mevaluate_candidates\u001b[1;34m(candidate_params, cv, more_results)\u001b[0m\n\u001b[0;32m    793\u001b[0m                               n_splits, n_candidates, n_candidates * n_splits))\n\u001b[0;32m    794\u001b[0m \u001b[1;33m\u001b[0m\u001b[0m\n\u001b[1;32m--> 795\u001b[1;33m                 out = parallel(delayed(_fit_and_score)(clone(base_estimator),\n\u001b[0m\u001b[0;32m    796\u001b[0m                                                        \u001b[0mX\u001b[0m\u001b[1;33m,\u001b[0m \u001b[0my\u001b[0m\u001b[1;33m,\u001b[0m\u001b[1;33m\u001b[0m\u001b[1;33m\u001b[0m\u001b[0m\n\u001b[0;32m    797\u001b[0m                                                        \u001b[0mtrain\u001b[0m\u001b[1;33m=\u001b[0m\u001b[0mtrain\u001b[0m\u001b[1;33m,\u001b[0m \u001b[0mtest\u001b[0m\u001b[1;33m=\u001b[0m\u001b[0mtest\u001b[0m\u001b[1;33m,\u001b[0m\u001b[1;33m\u001b[0m\u001b[1;33m\u001b[0m\u001b[0m\n",
      "\u001b[1;32m~\\anaconda3\\lib\\site-packages\\joblib\\parallel.py\u001b[0m in \u001b[0;36m__call__\u001b[1;34m(self, iterable)\u001b[0m\n\u001b[0;32m   1042\u001b[0m                 \u001b[0mself\u001b[0m\u001b[1;33m.\u001b[0m\u001b[0m_iterating\u001b[0m \u001b[1;33m=\u001b[0m \u001b[0mself\u001b[0m\u001b[1;33m.\u001b[0m\u001b[0m_original_iterator\u001b[0m \u001b[1;32mis\u001b[0m \u001b[1;32mnot\u001b[0m \u001b[1;32mNone\u001b[0m\u001b[1;33m\u001b[0m\u001b[1;33m\u001b[0m\u001b[0m\n\u001b[0;32m   1043\u001b[0m \u001b[1;33m\u001b[0m\u001b[0m\n\u001b[1;32m-> 1044\u001b[1;33m             \u001b[1;32mwhile\u001b[0m \u001b[0mself\u001b[0m\u001b[1;33m.\u001b[0m\u001b[0mdispatch_one_batch\u001b[0m\u001b[1;33m(\u001b[0m\u001b[0miterator\u001b[0m\u001b[1;33m)\u001b[0m\u001b[1;33m:\u001b[0m\u001b[1;33m\u001b[0m\u001b[1;33m\u001b[0m\u001b[0m\n\u001b[0m\u001b[0;32m   1045\u001b[0m                 \u001b[1;32mpass\u001b[0m\u001b[1;33m\u001b[0m\u001b[1;33m\u001b[0m\u001b[0m\n\u001b[0;32m   1046\u001b[0m \u001b[1;33m\u001b[0m\u001b[0m\n",
      "\u001b[1;32m~\\anaconda3\\lib\\site-packages\\joblib\\parallel.py\u001b[0m in \u001b[0;36mdispatch_one_batch\u001b[1;34m(self, iterator)\u001b[0m\n\u001b[0;32m    857\u001b[0m                 \u001b[1;32mreturn\u001b[0m \u001b[1;32mFalse\u001b[0m\u001b[1;33m\u001b[0m\u001b[1;33m\u001b[0m\u001b[0m\n\u001b[0;32m    858\u001b[0m             \u001b[1;32melse\u001b[0m\u001b[1;33m:\u001b[0m\u001b[1;33m\u001b[0m\u001b[1;33m\u001b[0m\u001b[0m\n\u001b[1;32m--> 859\u001b[1;33m                 \u001b[0mself\u001b[0m\u001b[1;33m.\u001b[0m\u001b[0m_dispatch\u001b[0m\u001b[1;33m(\u001b[0m\u001b[0mtasks\u001b[0m\u001b[1;33m)\u001b[0m\u001b[1;33m\u001b[0m\u001b[1;33m\u001b[0m\u001b[0m\n\u001b[0m\u001b[0;32m    860\u001b[0m                 \u001b[1;32mreturn\u001b[0m \u001b[1;32mTrue\u001b[0m\u001b[1;33m\u001b[0m\u001b[1;33m\u001b[0m\u001b[0m\n\u001b[0;32m    861\u001b[0m \u001b[1;33m\u001b[0m\u001b[0m\n",
      "\u001b[1;32m~\\anaconda3\\lib\\site-packages\\joblib\\parallel.py\u001b[0m in \u001b[0;36m_dispatch\u001b[1;34m(self, batch)\u001b[0m\n\u001b[0;32m    775\u001b[0m         \u001b[1;32mwith\u001b[0m \u001b[0mself\u001b[0m\u001b[1;33m.\u001b[0m\u001b[0m_lock\u001b[0m\u001b[1;33m:\u001b[0m\u001b[1;33m\u001b[0m\u001b[1;33m\u001b[0m\u001b[0m\n\u001b[0;32m    776\u001b[0m             \u001b[0mjob_idx\u001b[0m \u001b[1;33m=\u001b[0m \u001b[0mlen\u001b[0m\u001b[1;33m(\u001b[0m\u001b[0mself\u001b[0m\u001b[1;33m.\u001b[0m\u001b[0m_jobs\u001b[0m\u001b[1;33m)\u001b[0m\u001b[1;33m\u001b[0m\u001b[1;33m\u001b[0m\u001b[0m\n\u001b[1;32m--> 777\u001b[1;33m             \u001b[0mjob\u001b[0m \u001b[1;33m=\u001b[0m \u001b[0mself\u001b[0m\u001b[1;33m.\u001b[0m\u001b[0m_backend\u001b[0m\u001b[1;33m.\u001b[0m\u001b[0mapply_async\u001b[0m\u001b[1;33m(\u001b[0m\u001b[0mbatch\u001b[0m\u001b[1;33m,\u001b[0m \u001b[0mcallback\u001b[0m\u001b[1;33m=\u001b[0m\u001b[0mcb\u001b[0m\u001b[1;33m)\u001b[0m\u001b[1;33m\u001b[0m\u001b[1;33m\u001b[0m\u001b[0m\n\u001b[0m\u001b[0;32m    778\u001b[0m             \u001b[1;31m# A job can complete so quickly than its callback is\u001b[0m\u001b[1;33m\u001b[0m\u001b[1;33m\u001b[0m\u001b[1;33m\u001b[0m\u001b[0m\n\u001b[0;32m    779\u001b[0m             \u001b[1;31m# called before we get here, causing self._jobs to\u001b[0m\u001b[1;33m\u001b[0m\u001b[1;33m\u001b[0m\u001b[1;33m\u001b[0m\u001b[0m\n",
      "\u001b[1;32m~\\anaconda3\\lib\\site-packages\\joblib\\_parallel_backends.py\u001b[0m in \u001b[0;36mapply_async\u001b[1;34m(self, func, callback)\u001b[0m\n\u001b[0;32m    206\u001b[0m     \u001b[1;32mdef\u001b[0m \u001b[0mapply_async\u001b[0m\u001b[1;33m(\u001b[0m\u001b[0mself\u001b[0m\u001b[1;33m,\u001b[0m \u001b[0mfunc\u001b[0m\u001b[1;33m,\u001b[0m \u001b[0mcallback\u001b[0m\u001b[1;33m=\u001b[0m\u001b[1;32mNone\u001b[0m\u001b[1;33m)\u001b[0m\u001b[1;33m:\u001b[0m\u001b[1;33m\u001b[0m\u001b[1;33m\u001b[0m\u001b[0m\n\u001b[0;32m    207\u001b[0m         \u001b[1;34m\"\"\"Schedule a func to be run\"\"\"\u001b[0m\u001b[1;33m\u001b[0m\u001b[1;33m\u001b[0m\u001b[0m\n\u001b[1;32m--> 208\u001b[1;33m         \u001b[0mresult\u001b[0m \u001b[1;33m=\u001b[0m \u001b[0mImmediateResult\u001b[0m\u001b[1;33m(\u001b[0m\u001b[0mfunc\u001b[0m\u001b[1;33m)\u001b[0m\u001b[1;33m\u001b[0m\u001b[1;33m\u001b[0m\u001b[0m\n\u001b[0m\u001b[0;32m    209\u001b[0m         \u001b[1;32mif\u001b[0m \u001b[0mcallback\u001b[0m\u001b[1;33m:\u001b[0m\u001b[1;33m\u001b[0m\u001b[1;33m\u001b[0m\u001b[0m\n\u001b[0;32m    210\u001b[0m             \u001b[0mcallback\u001b[0m\u001b[1;33m(\u001b[0m\u001b[0mresult\u001b[0m\u001b[1;33m)\u001b[0m\u001b[1;33m\u001b[0m\u001b[1;33m\u001b[0m\u001b[0m\n",
      "\u001b[1;32m~\\anaconda3\\lib\\site-packages\\joblib\\_parallel_backends.py\u001b[0m in \u001b[0;36m__init__\u001b[1;34m(self, batch)\u001b[0m\n\u001b[0;32m    570\u001b[0m         \u001b[1;31m# Don't delay the application, to avoid keeping the input\u001b[0m\u001b[1;33m\u001b[0m\u001b[1;33m\u001b[0m\u001b[1;33m\u001b[0m\u001b[0m\n\u001b[0;32m    571\u001b[0m         \u001b[1;31m# arguments in memory\u001b[0m\u001b[1;33m\u001b[0m\u001b[1;33m\u001b[0m\u001b[1;33m\u001b[0m\u001b[0m\n\u001b[1;32m--> 572\u001b[1;33m         \u001b[0mself\u001b[0m\u001b[1;33m.\u001b[0m\u001b[0mresults\u001b[0m \u001b[1;33m=\u001b[0m \u001b[0mbatch\u001b[0m\u001b[1;33m(\u001b[0m\u001b[1;33m)\u001b[0m\u001b[1;33m\u001b[0m\u001b[1;33m\u001b[0m\u001b[0m\n\u001b[0m\u001b[0;32m    573\u001b[0m \u001b[1;33m\u001b[0m\u001b[0m\n\u001b[0;32m    574\u001b[0m     \u001b[1;32mdef\u001b[0m \u001b[0mget\u001b[0m\u001b[1;33m(\u001b[0m\u001b[0mself\u001b[0m\u001b[1;33m)\u001b[0m\u001b[1;33m:\u001b[0m\u001b[1;33m\u001b[0m\u001b[1;33m\u001b[0m\u001b[0m\n",
      "\u001b[1;32m~\\anaconda3\\lib\\site-packages\\joblib\\parallel.py\u001b[0m in \u001b[0;36m__call__\u001b[1;34m(self)\u001b[0m\n\u001b[0;32m    260\u001b[0m         \u001b[1;31m# change the default number of processes to -1\u001b[0m\u001b[1;33m\u001b[0m\u001b[1;33m\u001b[0m\u001b[1;33m\u001b[0m\u001b[0m\n\u001b[0;32m    261\u001b[0m         \u001b[1;32mwith\u001b[0m \u001b[0mparallel_backend\u001b[0m\u001b[1;33m(\u001b[0m\u001b[0mself\u001b[0m\u001b[1;33m.\u001b[0m\u001b[0m_backend\u001b[0m\u001b[1;33m,\u001b[0m \u001b[0mn_jobs\u001b[0m\u001b[1;33m=\u001b[0m\u001b[0mself\u001b[0m\u001b[1;33m.\u001b[0m\u001b[0m_n_jobs\u001b[0m\u001b[1;33m)\u001b[0m\u001b[1;33m:\u001b[0m\u001b[1;33m\u001b[0m\u001b[1;33m\u001b[0m\u001b[0m\n\u001b[1;32m--> 262\u001b[1;33m             return [func(*args, **kwargs)\n\u001b[0m\u001b[0;32m    263\u001b[0m                     for func, args, kwargs in self.items]\n\u001b[0;32m    264\u001b[0m \u001b[1;33m\u001b[0m\u001b[0m\n",
      "\u001b[1;32m~\\anaconda3\\lib\\site-packages\\joblib\\parallel.py\u001b[0m in \u001b[0;36m<listcomp>\u001b[1;34m(.0)\u001b[0m\n\u001b[0;32m    260\u001b[0m         \u001b[1;31m# change the default number of processes to -1\u001b[0m\u001b[1;33m\u001b[0m\u001b[1;33m\u001b[0m\u001b[1;33m\u001b[0m\u001b[0m\n\u001b[0;32m    261\u001b[0m         \u001b[1;32mwith\u001b[0m \u001b[0mparallel_backend\u001b[0m\u001b[1;33m(\u001b[0m\u001b[0mself\u001b[0m\u001b[1;33m.\u001b[0m\u001b[0m_backend\u001b[0m\u001b[1;33m,\u001b[0m \u001b[0mn_jobs\u001b[0m\u001b[1;33m=\u001b[0m\u001b[0mself\u001b[0m\u001b[1;33m.\u001b[0m\u001b[0m_n_jobs\u001b[0m\u001b[1;33m)\u001b[0m\u001b[1;33m:\u001b[0m\u001b[1;33m\u001b[0m\u001b[1;33m\u001b[0m\u001b[0m\n\u001b[1;32m--> 262\u001b[1;33m             return [func(*args, **kwargs)\n\u001b[0m\u001b[0;32m    263\u001b[0m                     for func, args, kwargs in self.items]\n\u001b[0;32m    264\u001b[0m \u001b[1;33m\u001b[0m\u001b[0m\n",
      "\u001b[1;32m~\\anaconda3\\lib\\site-packages\\sklearn\\utils\\fixes.py\u001b[0m in \u001b[0;36m__call__\u001b[1;34m(self, *args, **kwargs)\u001b[0m\n\u001b[0;32m    220\u001b[0m     \u001b[1;32mdef\u001b[0m \u001b[0m__call__\u001b[0m\u001b[1;33m(\u001b[0m\u001b[0mself\u001b[0m\u001b[1;33m,\u001b[0m \u001b[1;33m*\u001b[0m\u001b[0margs\u001b[0m\u001b[1;33m,\u001b[0m \u001b[1;33m**\u001b[0m\u001b[0mkwargs\u001b[0m\u001b[1;33m)\u001b[0m\u001b[1;33m:\u001b[0m\u001b[1;33m\u001b[0m\u001b[1;33m\u001b[0m\u001b[0m\n\u001b[0;32m    221\u001b[0m         \u001b[1;32mwith\u001b[0m \u001b[0mconfig_context\u001b[0m\u001b[1;33m(\u001b[0m\u001b[1;33m**\u001b[0m\u001b[0mself\u001b[0m\u001b[1;33m.\u001b[0m\u001b[0mconfig\u001b[0m\u001b[1;33m)\u001b[0m\u001b[1;33m:\u001b[0m\u001b[1;33m\u001b[0m\u001b[1;33m\u001b[0m\u001b[0m\n\u001b[1;32m--> 222\u001b[1;33m             \u001b[1;32mreturn\u001b[0m \u001b[0mself\u001b[0m\u001b[1;33m.\u001b[0m\u001b[0mfunction\u001b[0m\u001b[1;33m(\u001b[0m\u001b[1;33m*\u001b[0m\u001b[0margs\u001b[0m\u001b[1;33m,\u001b[0m \u001b[1;33m**\u001b[0m\u001b[0mkwargs\u001b[0m\u001b[1;33m)\u001b[0m\u001b[1;33m\u001b[0m\u001b[1;33m\u001b[0m\u001b[0m\n\u001b[0m",
      "\u001b[1;32m~\\anaconda3\\lib\\site-packages\\sklearn\\model_selection\\_validation.py\u001b[0m in \u001b[0;36m_fit_and_score\u001b[1;34m(estimator, X, y, scorer, train, test, verbose, parameters, fit_params, return_train_score, return_parameters, return_n_test_samples, return_times, return_estimator, split_progress, candidate_progress, error_score)\u001b[0m\n\u001b[0;32m    591\u001b[0m             \u001b[0mestimator\u001b[0m\u001b[1;33m.\u001b[0m\u001b[0mfit\u001b[0m\u001b[1;33m(\u001b[0m\u001b[0mX_train\u001b[0m\u001b[1;33m,\u001b[0m \u001b[1;33m**\u001b[0m\u001b[0mfit_params\u001b[0m\u001b[1;33m)\u001b[0m\u001b[1;33m\u001b[0m\u001b[1;33m\u001b[0m\u001b[0m\n\u001b[0;32m    592\u001b[0m         \u001b[1;32melse\u001b[0m\u001b[1;33m:\u001b[0m\u001b[1;33m\u001b[0m\u001b[1;33m\u001b[0m\u001b[0m\n\u001b[1;32m--> 593\u001b[1;33m             \u001b[0mestimator\u001b[0m\u001b[1;33m.\u001b[0m\u001b[0mfit\u001b[0m\u001b[1;33m(\u001b[0m\u001b[0mX_train\u001b[0m\u001b[1;33m,\u001b[0m \u001b[0my_train\u001b[0m\u001b[1;33m,\u001b[0m \u001b[1;33m**\u001b[0m\u001b[0mfit_params\u001b[0m\u001b[1;33m)\u001b[0m\u001b[1;33m\u001b[0m\u001b[1;33m\u001b[0m\u001b[0m\n\u001b[0m\u001b[0;32m    594\u001b[0m \u001b[1;33m\u001b[0m\u001b[0m\n\u001b[0;32m    595\u001b[0m     \u001b[1;32mexcept\u001b[0m \u001b[0mException\u001b[0m \u001b[1;32mas\u001b[0m \u001b[0me\u001b[0m\u001b[1;33m:\u001b[0m\u001b[1;33m\u001b[0m\u001b[1;33m\u001b[0m\u001b[0m\n",
      "\u001b[1;32m~\\anaconda3\\lib\\site-packages\\sklearn\\ensemble\\_forest.py\u001b[0m in \u001b[0;36mfit\u001b[1;34m(self, X, y, sample_weight)\u001b[0m\n\u001b[0;32m    385\u001b[0m             \u001b[1;31m# parallel_backend contexts set at a higher level,\u001b[0m\u001b[1;33m\u001b[0m\u001b[1;33m\u001b[0m\u001b[1;33m\u001b[0m\u001b[0m\n\u001b[0;32m    386\u001b[0m             \u001b[1;31m# since correctness does not rely on using threads.\u001b[0m\u001b[1;33m\u001b[0m\u001b[1;33m\u001b[0m\u001b[1;33m\u001b[0m\u001b[0m\n\u001b[1;32m--> 387\u001b[1;33m             trees = Parallel(n_jobs=self.n_jobs, verbose=self.verbose,\n\u001b[0m\u001b[0;32m    388\u001b[0m                              \u001b[1;33m**\u001b[0m\u001b[0m_joblib_parallel_args\u001b[0m\u001b[1;33m(\u001b[0m\u001b[0mprefer\u001b[0m\u001b[1;33m=\u001b[0m\u001b[1;34m'threads'\u001b[0m\u001b[1;33m)\u001b[0m\u001b[1;33m)\u001b[0m\u001b[1;33m(\u001b[0m\u001b[1;33m\u001b[0m\u001b[1;33m\u001b[0m\u001b[0m\n\u001b[0;32m    389\u001b[0m                 delayed(_parallel_build_trees)(\n",
      "\u001b[1;32m~\\anaconda3\\lib\\site-packages\\joblib\\parallel.py\u001b[0m in \u001b[0;36m__call__\u001b[1;34m(self, iterable)\u001b[0m\n\u001b[0;32m   1052\u001b[0m \u001b[1;33m\u001b[0m\u001b[0m\n\u001b[0;32m   1053\u001b[0m             \u001b[1;32mwith\u001b[0m \u001b[0mself\u001b[0m\u001b[1;33m.\u001b[0m\u001b[0m_backend\u001b[0m\u001b[1;33m.\u001b[0m\u001b[0mretrieval_context\u001b[0m\u001b[1;33m(\u001b[0m\u001b[1;33m)\u001b[0m\u001b[1;33m:\u001b[0m\u001b[1;33m\u001b[0m\u001b[1;33m\u001b[0m\u001b[0m\n\u001b[1;32m-> 1054\u001b[1;33m                 \u001b[0mself\u001b[0m\u001b[1;33m.\u001b[0m\u001b[0mretrieve\u001b[0m\u001b[1;33m(\u001b[0m\u001b[1;33m)\u001b[0m\u001b[1;33m\u001b[0m\u001b[1;33m\u001b[0m\u001b[0m\n\u001b[0m\u001b[0;32m   1055\u001b[0m             \u001b[1;31m# Make sure that we get a last message telling us we are done\u001b[0m\u001b[1;33m\u001b[0m\u001b[1;33m\u001b[0m\u001b[1;33m\u001b[0m\u001b[0m\n\u001b[0;32m   1056\u001b[0m             \u001b[0melapsed_time\u001b[0m \u001b[1;33m=\u001b[0m \u001b[0mtime\u001b[0m\u001b[1;33m.\u001b[0m\u001b[0mtime\u001b[0m\u001b[1;33m(\u001b[0m\u001b[1;33m)\u001b[0m \u001b[1;33m-\u001b[0m \u001b[0mself\u001b[0m\u001b[1;33m.\u001b[0m\u001b[0m_start_time\u001b[0m\u001b[1;33m\u001b[0m\u001b[1;33m\u001b[0m\u001b[0m\n",
      "\u001b[1;32m~\\anaconda3\\lib\\site-packages\\joblib\\parallel.py\u001b[0m in \u001b[0;36mretrieve\u001b[1;34m(self)\u001b[0m\n\u001b[0;32m    931\u001b[0m             \u001b[1;32mtry\u001b[0m\u001b[1;33m:\u001b[0m\u001b[1;33m\u001b[0m\u001b[1;33m\u001b[0m\u001b[0m\n\u001b[0;32m    932\u001b[0m                 \u001b[1;32mif\u001b[0m \u001b[0mgetattr\u001b[0m\u001b[1;33m(\u001b[0m\u001b[0mself\u001b[0m\u001b[1;33m.\u001b[0m\u001b[0m_backend\u001b[0m\u001b[1;33m,\u001b[0m \u001b[1;34m'supports_timeout'\u001b[0m\u001b[1;33m,\u001b[0m \u001b[1;32mFalse\u001b[0m\u001b[1;33m)\u001b[0m\u001b[1;33m:\u001b[0m\u001b[1;33m\u001b[0m\u001b[1;33m\u001b[0m\u001b[0m\n\u001b[1;32m--> 933\u001b[1;33m                     \u001b[0mself\u001b[0m\u001b[1;33m.\u001b[0m\u001b[0m_output\u001b[0m\u001b[1;33m.\u001b[0m\u001b[0mextend\u001b[0m\u001b[1;33m(\u001b[0m\u001b[0mjob\u001b[0m\u001b[1;33m.\u001b[0m\u001b[0mget\u001b[0m\u001b[1;33m(\u001b[0m\u001b[0mtimeout\u001b[0m\u001b[1;33m=\u001b[0m\u001b[0mself\u001b[0m\u001b[1;33m.\u001b[0m\u001b[0mtimeout\u001b[0m\u001b[1;33m)\u001b[0m\u001b[1;33m)\u001b[0m\u001b[1;33m\u001b[0m\u001b[1;33m\u001b[0m\u001b[0m\n\u001b[0m\u001b[0;32m    934\u001b[0m                 \u001b[1;32melse\u001b[0m\u001b[1;33m:\u001b[0m\u001b[1;33m\u001b[0m\u001b[1;33m\u001b[0m\u001b[0m\n\u001b[0;32m    935\u001b[0m                     \u001b[0mself\u001b[0m\u001b[1;33m.\u001b[0m\u001b[0m_output\u001b[0m\u001b[1;33m.\u001b[0m\u001b[0mextend\u001b[0m\u001b[1;33m(\u001b[0m\u001b[0mjob\u001b[0m\u001b[1;33m.\u001b[0m\u001b[0mget\u001b[0m\u001b[1;33m(\u001b[0m\u001b[1;33m)\u001b[0m\u001b[1;33m)\u001b[0m\u001b[1;33m\u001b[0m\u001b[1;33m\u001b[0m\u001b[0m\n",
      "\u001b[1;32m~\\anaconda3\\lib\\site-packages\\joblib\\_parallel_backends.py\u001b[0m in \u001b[0;36mwrap_future_result\u001b[1;34m(future, timeout)\u001b[0m\n\u001b[0;32m    540\u001b[0m         AsyncResults.get from multiprocessing.\"\"\"\n\u001b[0;32m    541\u001b[0m         \u001b[1;32mtry\u001b[0m\u001b[1;33m:\u001b[0m\u001b[1;33m\u001b[0m\u001b[1;33m\u001b[0m\u001b[0m\n\u001b[1;32m--> 542\u001b[1;33m             \u001b[1;32mreturn\u001b[0m \u001b[0mfuture\u001b[0m\u001b[1;33m.\u001b[0m\u001b[0mresult\u001b[0m\u001b[1;33m(\u001b[0m\u001b[0mtimeout\u001b[0m\u001b[1;33m=\u001b[0m\u001b[0mtimeout\u001b[0m\u001b[1;33m)\u001b[0m\u001b[1;33m\u001b[0m\u001b[1;33m\u001b[0m\u001b[0m\n\u001b[0m\u001b[0;32m    543\u001b[0m         \u001b[1;32mexcept\u001b[0m \u001b[0mCfTimeoutError\u001b[0m \u001b[1;32mas\u001b[0m \u001b[0me\u001b[0m\u001b[1;33m:\u001b[0m\u001b[1;33m\u001b[0m\u001b[1;33m\u001b[0m\u001b[0m\n\u001b[0;32m    544\u001b[0m             \u001b[1;32mraise\u001b[0m \u001b[0mTimeoutError\u001b[0m \u001b[1;32mfrom\u001b[0m \u001b[0me\u001b[0m\u001b[1;33m\u001b[0m\u001b[1;33m\u001b[0m\u001b[0m\n",
      "\u001b[1;32m~\\anaconda3\\lib\\concurrent\\futures\\_base.py\u001b[0m in \u001b[0;36mresult\u001b[1;34m(self, timeout)\u001b[0m\n\u001b[0;32m    432\u001b[0m                 \u001b[1;32mreturn\u001b[0m \u001b[0mself\u001b[0m\u001b[1;33m.\u001b[0m\u001b[0m__get_result\u001b[0m\u001b[1;33m(\u001b[0m\u001b[1;33m)\u001b[0m\u001b[1;33m\u001b[0m\u001b[1;33m\u001b[0m\u001b[0m\n\u001b[0;32m    433\u001b[0m \u001b[1;33m\u001b[0m\u001b[0m\n\u001b[1;32m--> 434\u001b[1;33m             \u001b[0mself\u001b[0m\u001b[1;33m.\u001b[0m\u001b[0m_condition\u001b[0m\u001b[1;33m.\u001b[0m\u001b[0mwait\u001b[0m\u001b[1;33m(\u001b[0m\u001b[0mtimeout\u001b[0m\u001b[1;33m)\u001b[0m\u001b[1;33m\u001b[0m\u001b[1;33m\u001b[0m\u001b[0m\n\u001b[0m\u001b[0;32m    435\u001b[0m \u001b[1;33m\u001b[0m\u001b[0m\n\u001b[0;32m    436\u001b[0m             \u001b[1;32mif\u001b[0m \u001b[0mself\u001b[0m\u001b[1;33m.\u001b[0m\u001b[0m_state\u001b[0m \u001b[1;32min\u001b[0m \u001b[1;33m[\u001b[0m\u001b[0mCANCELLED\u001b[0m\u001b[1;33m,\u001b[0m \u001b[0mCANCELLED_AND_NOTIFIED\u001b[0m\u001b[1;33m]\u001b[0m\u001b[1;33m:\u001b[0m\u001b[1;33m\u001b[0m\u001b[1;33m\u001b[0m\u001b[0m\n",
      "\u001b[1;32m~\\anaconda3\\lib\\threading.py\u001b[0m in \u001b[0;36mwait\u001b[1;34m(self, timeout)\u001b[0m\n\u001b[0;32m    300\u001b[0m         \u001b[1;32mtry\u001b[0m\u001b[1;33m:\u001b[0m    \u001b[1;31m# restore state no matter what (e.g., KeyboardInterrupt)\u001b[0m\u001b[1;33m\u001b[0m\u001b[1;33m\u001b[0m\u001b[0m\n\u001b[0;32m    301\u001b[0m             \u001b[1;32mif\u001b[0m \u001b[0mtimeout\u001b[0m \u001b[1;32mis\u001b[0m \u001b[1;32mNone\u001b[0m\u001b[1;33m:\u001b[0m\u001b[1;33m\u001b[0m\u001b[1;33m\u001b[0m\u001b[0m\n\u001b[1;32m--> 302\u001b[1;33m                 \u001b[0mwaiter\u001b[0m\u001b[1;33m.\u001b[0m\u001b[0macquire\u001b[0m\u001b[1;33m(\u001b[0m\u001b[1;33m)\u001b[0m\u001b[1;33m\u001b[0m\u001b[1;33m\u001b[0m\u001b[0m\n\u001b[0m\u001b[0;32m    303\u001b[0m                 \u001b[0mgotit\u001b[0m \u001b[1;33m=\u001b[0m \u001b[1;32mTrue\u001b[0m\u001b[1;33m\u001b[0m\u001b[1;33m\u001b[0m\u001b[0m\n\u001b[0;32m    304\u001b[0m             \u001b[1;32melse\u001b[0m\u001b[1;33m:\u001b[0m\u001b[1;33m\u001b[0m\u001b[1;33m\u001b[0m\u001b[0m\n",
      "\u001b[1;31mKeyboardInterrupt\u001b[0m: "
     ]
    }
   ],
   "source": [
    "param_grid=({'n_estimators':[10,100,1000], 'n_jobs':[2,4,6,8], 'max_depth':[2,10,100]},\n",
    "     {'n_estimators':[10,100,1000], 'max_depth':[2,10,100], 'n_jobs':[2,4,6,8]})\n",
    "\n",
    "grid_search=GridSearchCV(rf,param_grid,cv=5,scoring='r2',return_train_score=True)\n",
    "\n",
    "grid_search=grid_search.fit(X_train,y_train)"
   ]
  },
  {
   "cell_type": "code",
   "execution_count": null,
   "id": "e7a13763",
   "metadata": {},
   "outputs": [],
   "source": [
    "#To see the best parameter for our model\n",
    "grid_search.best_params_"
   ]
  },
  {
   "cell_type": "code",
   "execution_count": null,
   "id": "1dbb54ad",
   "metadata": {},
   "outputs": [],
   "source": [
    "rf=RandomForestRegressor(max_depth=100, n_estimators=1000,n_jobs=4)\n",
    "\n",
    "rf.fit(X_train,y_train)\n",
    "\n",
    "y_train_pred4a=rf.predict(X_train)\n",
    "y_pred4a=rf.predict(X_test)\n",
    "\n",
    "print('Train r2 score: ', r2_score(y_train,y_train_pred4a))\n",
    "print('Test r2 score:', r2_score(y_test, y_pred4a))\n",
    "\n",
    "print('train_mae:', mean_absolute_error(y_train,y_train_pred4a))\n",
    "print('test_mae:', mean_absolute_error(y_test,y_pred4a))\n",
    "\n",
    "print('train_mse1:', mean_squared_error( y_train,y_train_pred4a))\n",
    "print('test_mse1:', mean_squared_error(y_test,y_pred4a))"
   ]
  },
  {
   "cell_type": "markdown",
   "id": "66e249f7",
   "metadata": {},
   "source": [
    "# Validation"
   ]
  },
  {
   "cell_type": "code",
   "execution_count": null,
   "id": "8c8d68bb",
   "metadata": {},
   "outputs": [],
   "source": [
    "from sklearn.model_selection import cross_val_score\n",
    "import sklearn.metrics"
   ]
  },
  {
   "cell_type": "code",
   "execution_count": null,
   "id": "b0f7921a",
   "metadata": {
    "scrolled": true
   },
   "outputs": [],
   "source": [
    "#use this to check the evaluation scores available for use in your validation\n",
    "sorted(sklearn.metrics.SCORERS.keys())"
   ]
  },
  {
   "cell_type": "code",
   "execution_count": null,
   "id": "154786fb",
   "metadata": {
    "scrolled": true
   },
   "outputs": [],
   "source": [
    "#We will be using 'r' evaluation metric to carry out validation on the linear regression model\n",
    "scores=cross_val_score(rf,X_train,y_train,scoring='r2',cv=10)\n",
    "\n",
    "def display_scores(scores):\n",
    "    print('scores:', scores)\n",
    "    print('mean:',scores.mean())\n",
    "    print('standard deviation:', scores.std())\n",
    "    \n",
    "display_scores(scores)"
   ]
  },
  {
   "cell_type": "markdown",
   "id": "f2380c77",
   "metadata": {},
   "source": [
    " Interpreting this, we can say our model has an actual r2 score of 62%+/-4%"
   ]
  },
  {
   "cell_type": "code",
   "execution_count": 80,
   "id": "2a4831ea",
   "metadata": {},
   "outputs": [],
   "source": [
    "import pickle\n",
    "from pickle import dump"
   ]
  },
  {
   "cell_type": "code",
   "execution_count": 117,
   "id": "720312e0",
   "metadata": {},
   "outputs": [],
   "source": [
    "#to save the model\n",
    "dump(rf,open('model(rf).pkl','wb'))\n",
    "#to save the scaler\n",
    "dump(scaler,open('scaler.pkl','wb'))"
   ]
  },
  {
   "cell_type": "code",
   "execution_count": null,
   "id": "ba08380a",
   "metadata": {},
   "outputs": [],
   "source": [
    "#to load the model from the disk\n",
    "model=pickle.load(open('model(rf).pkl','rb'))\n",
    "model"
   ]
  },
  {
   "cell_type": "code",
   "execution_count": null,
   "id": "96bed5e6",
   "metadata": {},
   "outputs": [],
   "source": []
  }
 ],
 "metadata": {
  "kernelspec": {
   "display_name": "Python 3",
   "language": "python",
   "name": "python3"
  },
  "language_info": {
   "codemirror_mode": {
    "name": "ipython",
    "version": 3
   },
   "file_extension": ".py",
   "mimetype": "text/x-python",
   "name": "python",
   "nbconvert_exporter": "python",
   "pygments_lexer": "ipython3",
   "version": "3.8.8"
  }
 },
 "nbformat": 4,
 "nbformat_minor": 5
}
